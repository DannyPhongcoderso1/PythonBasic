{
 "cells": [
  {
   "cell_type": "code",
   "execution_count": 8,
   "id": "16ed7e48",
   "metadata": {},
   "outputs": [],
   "source": [
    "import random\n",
    "import math"
   ]
  },
  {
   "cell_type": "markdown",
   "id": "ea7fe051",
   "metadata": {},
   "source": [
    "# **Tuple**"
   ]
  },
  {
   "cell_type": "markdown",
   "id": "35cd7bcf",
   "metadata": {},
   "source": [
    "to create a tuple of numbers and print one item"
   ]
  },
  {
   "cell_type": "code",
   "execution_count": 1,
   "id": "1e8d547b",
   "metadata": {},
   "outputs": [
    {
     "name": "stdout",
     "output_type": "stream",
     "text": [
      "2\n"
     ]
    }
   ],
   "source": [
    "#cau 1\n",
    "tupleList = (1,2,3,4,5,6)\n",
    "print(tupleList[1])"
   ]
  },
  {
   "cell_type": "markdown",
   "id": "063d60c3",
   "metadata": {},
   "source": [
    " to unpack a tuple into several variables."
   ]
  },
  {
   "cell_type": "code",
   "execution_count": 2,
   "id": "98346b12",
   "metadata": {},
   "outputs": [
    {
     "name": "stdout",
     "output_type": "stream",
     "text": [
      "Danny\n",
      "20\n",
      "2005\n"
     ]
    }
   ],
   "source": [
    "#cau 2\n",
    "tupleList = (\"Danny\", \"20\", \"2005\")\n",
    "name, age, birthyear = tupleList\n",
    "print(name)\n",
    "print(age)\n",
    "print(birthyear)\n"
   ]
  },
  {
   "cell_type": "markdown",
   "id": "666fc921",
   "metadata": {},
   "source": [
    " to add an item to a tuple."
   ]
  },
  {
   "cell_type": "code",
   "execution_count": 5,
   "id": "9c76dea6",
   "metadata": {},
   "outputs": [
    {
     "name": "stdout",
     "output_type": "stream",
     "text": [
      "('Danny', '20', '2005', 'Computer Science')\n",
      "('Danny', '20', '2005', 'Computer Science')\n"
     ]
    }
   ],
   "source": [
    "#cau 3\n",
    "tupleList = (\"Danny\", \"20\", \"2005\")\n",
    "tupleList = tupleList + (\"Computer Science\",)\n",
    "print(tupleList)\n",
    "\n",
    "tupleList1 = (\"Danny\", \"20\", \"2005\")\n",
    "sampleList = list(tupleList1)\n",
    "sampleList.append(\"Computer Science\")\n",
    "tupleList1 = tuple(sampleList)\n",
    "print(tupleList1) "
   ]
  },
  {
   "cell_type": "markdown",
   "id": "c6adb9ef",
   "metadata": {},
   "source": [
    "to find the index of an item in a tuple."
   ]
  },
  {
   "cell_type": "code",
   "execution_count": null,
   "id": "fd202e66",
   "metadata": {},
   "outputs": [
    {
     "name": "stdout",
     "output_type": "stream",
     "text": [
      "0\n"
     ]
    }
   ],
   "source": [
    "#cau 4\n",
    "tupleList = (\"Danny\", \"20\", \"2005\")\n",
    "index = tupleList.index(\"Danny\")\n",
    "print(index)"
   ]
  },
  {
   "cell_type": "markdown",
   "id": "b6728b7d",
   "metadata": {},
   "source": [
    "to find the repeated items of a tuple"
   ]
  },
  {
   "cell_type": "code",
   "execution_count": 34,
   "id": "9784233b",
   "metadata": {},
   "outputs": [
    {
     "name": "stdout",
     "output_type": "stream",
     "text": [
      "{1, 2}\n"
     ]
    }
   ],
   "source": [
    "#cau 5\n",
    "tupleList = (1, 2, 3, 2, 4, 1, 5, 1)\n",
    "existed = set()\n",
    "duplicates = set()\n",
    "for i in tupleList:\n",
    "    if i in existed:\n",
    "        duplicates.add(i)\n",
    "    else:\n",
    "        existed.add(i)\n",
    "print(duplicates)\n",
    "\n"
   ]
  },
  {
   "cell_type": "markdown",
   "id": "fd8a70d8",
   "metadata": {},
   "source": [
    "# **Set**"
   ]
  },
  {
   "cell_type": "markdown",
   "id": "76da853e",
   "metadata": {},
   "source": [
    "Write a Python program to find the maximum and minimum values in a set"
   ]
  },
  {
   "cell_type": "code",
   "execution_count": null,
   "id": "c8e28b83",
   "metadata": {},
   "outputs": [
    {
     "name": "stdout",
     "output_type": "stream",
     "text": [
      "{96, 65, 66, 40, 10, 43, 78, 51, 86, 56, 31}\n",
      "10\n",
      "96\n"
     ]
    }
   ],
   "source": [
    "#cau 1\n",
    "sampleSet = set()\n",
    "for i in range(15):\n",
    "    number = random.randint(1,100)\n",
    "    sampleSet.add(number)\n",
    "minValue = min(sampleSet)\n",
    "maxValue = max(sampleSet)\n",
    "print(sampleSet)\n",
    "print(minValue)\n",
    "print(maxValue)"
   ]
  },
  {
   "cell_type": "markdown",
   "id": "4b8be10d",
   "metadata": {},
   "source": [
    "Write a Python program to check if a given value is present in a set or not."
   ]
  },
  {
   "cell_type": "code",
   "execution_count": null,
   "id": "0962d768",
   "metadata": {},
   "outputs": [
    {
     "name": "stdout",
     "output_type": "stream",
     "text": [
      "{97, 98, 99, 8, 73, 10, 76, 45, 79, 50, 18, 23, 26, 28, 95}\n",
      "is present\n"
     ]
    }
   ],
   "source": [
    "#cau 2\n",
    "sampleSet = set()\n",
    "for i in range(15):\n",
    "    number = random.randint(1,100)\n",
    "    sampleSet.add(number)\n",
    "print(sampleSet)\n",
    "choice = int(input(\"nhap so: \"))\n",
    "if choice in sampleSet:\n",
    "    print(\"is present\")\n",
    "else:\n",
    "    print(\"is not present\")"
   ]
  },
  {
   "cell_type": "markdown",
   "id": "b48e205e",
   "metadata": {},
   "source": [
    "Write a Python program to check if two given sets have no elements in common"
   ]
  },
  {
   "cell_type": "code",
   "execution_count": null,
   "id": "09b9d65e",
   "metadata": {},
   "outputs": [
    {
     "name": "stdout",
     "output_type": "stream",
     "text": [
      "there is no common in two given sets\n"
     ]
    }
   ],
   "source": [
    "#cau 3\n",
    "set1 = {1, 2, 3, 4}\n",
    "set2 = {5, 6, 7, 8}\n",
    "\n",
    "if set1 != set2:\n",
    "    print(\"there is no common in two given sets\")\n",
    "else:\n",
    "    print(\"there is common in two given sets\")"
   ]
  },
  {
   "cell_type": "markdown",
   "id": "3c7c47c8",
   "metadata": {},
   "source": [
    "Write a Python program to find all the unique words and count the frequency of occurrence from a given list of strings. Use Python set data type."
   ]
  },
  {
   "cell_type": "code",
   "execution_count": null,
   "id": "9fa1aad3",
   "metadata": {},
   "outputs": [
    {
     "name": "stdout",
     "output_type": "stream",
     "text": [
      "{'hello', 'world', 'of', 'openai', 'python', 'great', 'is'}\n",
      "{'hello': 3, 'world': 2, 'python': 3, 'openai': 1, 'is': 1, 'great': 1, 'of': 1}\n"
     ]
    }
   ],
   "source": [
    "#Cau 4\n",
    "strings = [\"Hello world\", \"Hello Python\", \"Hello OpenAI\", \"Python is great\", \"world of Python\"]\n",
    "\n",
    "uniqueWords = set()\n",
    "frequency = dict()\n",
    "\n",
    "for string in strings:\n",
    "    words = string.split()\n",
    "    for word in words:\n",
    "        word = word.lower()\n",
    "        uniqueWords.add(word)\n",
    "        \n",
    "        if word in frequency:\n",
    "            frequency[word] += 1\n",
    "        else:\n",
    "            frequency[word] = 1\n",
    "\n",
    "print(uniqueWords)\n",
    "print(frequency)\n",
    "        "
   ]
  },
  {
   "cell_type": "markdown",
   "id": "0f940e3a",
   "metadata": {},
   "source": [
    "Given two sets of numbers, write a Python program to find the missing numbers in the second set as compared to the first and vice versa. Use the Python set"
   ]
  },
  {
   "cell_type": "code",
   "execution_count": null,
   "id": "b1b0ace6",
   "metadata": {},
   "outputs": [
    {
     "name": "stdout",
     "output_type": "stream",
     "text": [
      "missing numbers in set 1 as compared to set 2: {8, 7}\n",
      "missing numbers in set 2 as compared to set 1: {1, 2, 3}\n"
     ]
    }
   ],
   "source": [
    "#cau 5\n",
    "set1 = {1, 2, 3, 4, 5, 6}\n",
    "set2 = {4, 5, 6, 7, 8}\n",
    "\n",
    "missingInSet1 = set2 - set1\n",
    "missingInSet2 = set1 - set2\n",
    "\n",
    "print(f\"missing numbers in set 1 as compared to set 2: {missingInSet1}\")\n",
    "print(f\"missing numbers in set 2 as compared to set 1: {missingInSet2}\")"
   ]
  },
  {
   "cell_type": "markdown",
   "id": "213815cd",
   "metadata": {},
   "source": [
    "# **Dictionary**"
   ]
  },
  {
   "cell_type": "markdown",
   "id": "6ded6f71",
   "metadata": {},
   "source": [
    "Convert two lists into a dictionary"
   ]
  },
  {
   "cell_type": "code",
   "execution_count": null,
   "id": "8a2d2376",
   "metadata": {},
   "outputs": [
    {
     "name": "stdout",
     "output_type": "stream",
     "text": [
      "{'apple': 1, 'banana': 1, 'cherry': 2, 'date': 2, 'fig': 1, 'grape': 2, 'honeydew': 1, 'kiwi': 1}\n"
     ]
    }
   ],
   "source": [
    "#cau 1\n",
    "list1 = [\"apple\", \"banana\", \"cherry\", \"date\", \"fig\", \"grape\"]\n",
    "list2 = [\"cherry\", \"date\", \"grape\", \"honeydew\", \"kiwi\"]\n",
    "\n",
    "combinedList = list1 + list2\n",
    "newDict = dict()\n",
    "\n",
    "for i in combinedList:\n",
    "    if i in newDict:\n",
    "        newDict[i] += 1\n",
    "    else:\n",
    "        newDict[i] = 1\n",
    "\n",
    "print(newDict)"
   ]
  },
  {
   "cell_type": "markdown",
   "id": "8ce0183e",
   "metadata": {},
   "source": [
    "Merge two Python dictionaries into one"
   ]
  },
  {
   "cell_type": "code",
   "execution_count": null,
   "id": "fa39b40a",
   "metadata": {},
   "outputs": [
    {
     "name": "stdout",
     "output_type": "stream",
     "text": [
      "{'apple': 2, 'banana': 7, 'cherry': 7, 'date': 1, 'fig': 6, 'grape': 3}\n"
     ]
    }
   ],
   "source": [
    "#cau 2\n",
    "dict1 = {\"apple\": 2, \"banana\": 5, \"cherry\": 3, \"date\": 1}\n",
    "dict2 = {\"banana\": 2, \"cherry\": 4, \"fig\": 6, \"grape\": 3}\n",
    "\n",
    "combinedDict = dict()\n",
    "\n",
    "for key,value in dict1.items():\n",
    "    combinedDict[key] = value\n",
    "for key,value in dict2.items():\n",
    "    if key in combinedDict:\n",
    "        combinedDict[key] += value\n",
    "    else:\n",
    "        combinedDict[key] = value\n",
    "print(combinedDict)"
   ]
  },
  {
   "cell_type": "markdown",
   "id": "27750c89",
   "metadata": {},
   "source": [
    "Print the value of key ‘history’ from the below dic"
   ]
  },
  {
   "cell_type": "code",
   "execution_count": null,
   "id": "dc9a7caa",
   "metadata": {},
   "outputs": [
    {
     "name": "stdout",
     "output_type": "stream",
     "text": [
      "30-04-1975\n"
     ]
    }
   ],
   "source": [
    "#Cau 3\n",
    "sampleDict = {\"history\": \"30-04-1975\"}\n",
    "print(sampleDict[\"history\"])"
   ]
  },
  {
   "cell_type": "markdown",
   "id": "42dbcf20",
   "metadata": {},
   "source": [
    "Initialize dictionary with default values"
   ]
  },
  {
   "cell_type": "code",
   "execution_count": 50,
   "id": "908860b1",
   "metadata": {},
   "outputs": [
    {
     "name": "stdout",
     "output_type": "stream",
     "text": [
      "{'Danny': 100, 'Hoa': 100, 'Phong': 100, 'Huy': 100, 'Dong': 100}\n",
      "{'Danny': 0, 'Hoa': 0, 'Phong': 0, 'Huy': 0, 'Dong': 0}\n"
     ]
    }
   ],
   "source": [
    "#Cau 4\n",
    "nameList = [\"Danny\", \"Hoa\", \"Phong\", \"Huy\", \"Dong\"]\n",
    "sampleDict = {name: 100 for name in nameList}\n",
    "print(sampleDict)\n",
    "\n",
    "defaultScore = 0\n",
    "scores = dict.fromkeys(nameList, defaultScore)\n",
    "print(scores)"
   ]
  },
  {
   "cell_type": "markdown",
   "id": "753415fc",
   "metadata": {},
   "source": [
    "Create a dictionary by extracting the keys from a given dictionary"
   ]
  },
  {
   "cell_type": "code",
   "execution_count": null,
   "id": "a289f0cd",
   "metadata": {},
   "outputs": [
    {
     "name": "stdout",
     "output_type": "stream",
     "text": [
      "{'name': 'Ngô Chánh Phong', 'major': 'Computer Science', 'GPA': 3.75}\n",
      "{'name': 'Ngô Chánh Phong', 'major': 'Computer Science', 'GPA': 3.75}\n"
     ]
    }
   ],
   "source": [
    "#cau 5\n",
    "studentInfo = {\n",
    "    \"name\": \"Ngô Chánh Phong\",\n",
    "    \"age\": 20,\n",
    "    \"gender\": \"male\",\n",
    "    \"university\": \"UEH\",\n",
    "    \"major\": \"Computer Science\",\n",
    "    \"GPA\": 3.75\n",
    "}\n",
    "\n",
    "givenKey = [\"name\", \"major\", \"GPA\"]\n",
    "\n",
    "sampleDict1 = {key: studentInfo[key] for key in givenKey}\n",
    "print(sampleDict1)\n",
    "\n",
    "sampleDict2 = dict()\n",
    "\n",
    "for key in givenKey:\n",
    "    sampleDict2[key] = studentInfo[key]\n",
    "print(sampleDict2)"
   ]
  },
  {
   "cell_type": "markdown",
   "id": "8c717ca9",
   "metadata": {},
   "source": [
    "Delete a list of keys from a dictionary"
   ]
  },
  {
   "cell_type": "code",
   "execution_count": null,
   "id": "f6b2325e",
   "metadata": {},
   "outputs": [
    {
     "name": "stdout",
     "output_type": "stream",
     "text": [
      "{'name': 'Ngô Chánh Phong', 'age': 20, 'gender': 'male', 'major': 'Computer Science'}\n"
     ]
    }
   ],
   "source": [
    "#cau 6\n",
    "studentInfo = {\n",
    "    \"name\": \"Ngô Chánh Phong\",\n",
    "    \"age\": 20,\n",
    "    \"gender\": \"male\",\n",
    "    \"university\": \"UEH\",\n",
    "    \"major\": \"Computer Science\",\n",
    "    \"GPA\": 3.75\n",
    "}\n",
    "\n",
    "deleteKey = [\"university\", \"GPA\"]\n",
    "for key in deleteKey:\n",
    "    del studentInfo[key]\n",
    "print(studentInfo)"
   ]
  },
  {
   "cell_type": "markdown",
   "id": "7e72c277",
   "metadata": {},
   "source": [
    "Check if a value exists in a dictionary"
   ]
  },
  {
   "cell_type": "code",
   "execution_count": 54,
   "id": "8f77477b",
   "metadata": {},
   "outputs": [
    {
     "name": "stdout",
     "output_type": "stream",
     "text": [
      "True\n"
     ]
    }
   ],
   "source": [
    "#Cau 7 \n",
    "studentInfo = {\n",
    "    \"name\": \"Ngô Chánh Phong\",\n",
    "    \"age\": 20,\n",
    "    \"gender\": \"male\",\n",
    "    \"university\": \"UEH\",\n",
    "    \"major\": \"Computer Science\",\n",
    "    \"GPA\": 3.75\n",
    "}\n",
    "\n",
    "if \"Ngô Chánh Phong\" in studentInfo.values():\n",
    "    print(True)\n",
    "else: \n",
    "    print(False)"
   ]
  },
  {
   "cell_type": "markdown",
   "id": "14f34825",
   "metadata": {},
   "source": [
    "Rename key of a dictionary"
   ]
  },
  {
   "cell_type": "code",
   "execution_count": 55,
   "id": "a4c4cd02",
   "metadata": {},
   "outputs": [
    {
     "name": "stdout",
     "output_type": "stream",
     "text": [
      "{'name': 'Ngô Chánh Phong', 'age': 20, 'gender': 'male', 'major': 'Computer Science', 'GPA': 3.75, 'school': 'UEH'}\n"
     ]
    }
   ],
   "source": [
    "#cau 8 \n",
    "studentInfo = {\n",
    "    \"name\": \"Ngô Chánh Phong\",\n",
    "    \"age\": 20,\n",
    "    \"gender\": \"male\",\n",
    "    \"university\": \"UEH\",\n",
    "    \"major\": \"Computer Science\",\n",
    "    \"GPA\": 3.75\n",
    "}\n",
    "\n",
    "studentInfo[\"school\"] = studentInfo.pop(\"university\")\n",
    "print(studentInfo)\n"
   ]
  },
  {
   "cell_type": "markdown",
   "id": "c35c4781",
   "metadata": {},
   "source": [
    "Get the key of a minimum value from the following dictionary"
   ]
  },
  {
   "cell_type": "code",
   "execution_count": 62,
   "id": "6e8e6542",
   "metadata": {},
   "outputs": [
    {
     "name": "stdout",
     "output_type": "stream",
     "text": [
      "date\n",
      "date\n"
     ]
    }
   ],
   "source": [
    "#Cau 9 \n",
    "sampleDict =  {\"apple\": 2, \"banana\": 5, \"cherry\": 3, \"date\": 1}\n",
    "minValue = min(sampleDict.values())\n",
    "for key in sampleDict:\n",
    "    if sampleDict[key] == minValue:\n",
    "        print(key)\n",
    "\n",
    "minValueKey = min(sampleDict, key = sampleDict.get)\n",
    "print(minValueKey)"
   ]
  },
  {
   "cell_type": "markdown",
   "id": "32e0323c",
   "metadata": {},
   "source": [
    "Change value of a key in a nested dictionary"
   ]
  },
  {
   "cell_type": "code",
   "execution_count": 64,
   "id": "cc292347",
   "metadata": {},
   "outputs": [
    {
     "name": "stdout",
     "output_type": "stream",
     "text": [
      "{'Alice': {'english': 78, 'chemistry': 100}, 'Bob': {'math': 90, 'english': 82}, 'Charlie': {'math': 70, 'english': 80}, 'David': {'math': 85, 'english': 75}}\n"
     ]
    }
   ],
   "source": [
    "#cau 10\n",
    "students = {\n",
    "    \"Alice\": {\"math\": 85, \"english\": 78},\n",
    "    \"Bob\": {\"math\": 90, \"english\": 82},\n",
    "    \"Charlie\": {\"math\": 70, \"english\": 80},\n",
    "    \"David\": {\"math\": 85, \"english\": 75}\n",
    "}\n",
    "students[\"Alice\"][\"math\"] = 100\n",
    "students[\"Alice\"][\"chemistry\"] = students[\"Alice\"].pop(\"math\") \n",
    "print(students)"
   ]
  },
  {
   "cell_type": "markdown",
   "id": "13a67695",
   "metadata": {},
   "source": [
    "Counts the number of times characters appear in a text paragraph."
   ]
  },
  {
   "cell_type": "code",
   "execution_count": 65,
   "id": "504efc23",
   "metadata": {},
   "outputs": [
    {
     "name": "stdout",
     "output_type": "stream",
     "text": [
      "{'s': 17, 'u': 8, 'p': 11, 'o': 21, 'e': 39, 'y': 14, 'h': 9, 'a': 35, 'v': 1, 'd': 13, 'i': 20, 'c': 9, 't': 27, 'n': 25, 'r': 14, 'f': 4, 'm': 13, 'b': 4, 'l': 10, 'w': 1, 'g': 1}\n"
     ]
    }
   ],
   "source": [
    "#Cau 11\n",
    "paragraph = \"\"\"Suppose you have a dictionary that contains information about employees at a company. \n",
    "Each employee is identified by an ID number, and their information includes their name, department, and salary. \n",
    "You want to create a nested dictionary that groups employees by department so that you can easily see the names and salaries of all employees in each department. \"\"\"\n",
    "countDict = dict()\n",
    "for character in paragraph:\n",
    "    if character.isalpha():\n",
    "        character = character.lower()\n",
    "        if character in countDict:\n",
    "            countDict[character] += 1\n",
    "        else:\n",
    "            countDict[character] = 1\n",
    "print(countDict)   "
   ]
  },
  {
   "cell_type": "markdown",
   "id": "f037e2a8",
   "metadata": {},
   "source": [
    "Using a dictionary containing keys starting from 1 and values ​​containing prime numbers less than a value N."
   ]
  },
  {
   "cell_type": "code",
   "execution_count": 69,
   "id": "89e5ef8d",
   "metadata": {},
   "outputs": [
    {
     "name": "stdout",
     "output_type": "stream",
     "text": [
      "{1: 2, 2: 3, 3: 5, 4: 7, 5: 11, 6: 13, 7: 17, 8: 19, 9: 23, 10: 29}\n"
     ]
    }
   ],
   "source": [
    "N = int(input(\"nhap n: \"))\n",
    "def is_prime_number(number):\n",
    "    if number < 2:\n",
    "        return False\n",
    "    for i in range(2, int(math.sqrt(number)) + 1):\n",
    "        if number % i == 0:\n",
    "            return False\n",
    "    return True\n",
    "\n",
    "primeNumbersList = list() \n",
    "for i in range(N+1):\n",
    "    if is_prime_number(i):\n",
    "        primeNumbersList.append(i)\n",
    "\n",
    "primeNumberDict = {index + 1: value for index, value in enumerate(primeNumbersList)}\n",
    "print(primeNumberDict)"
   ]
  },
  {
   "cell_type": "markdown",
   "id": "a9f4f312",
   "metadata": {},
   "source": [
    "# **Extra exercise**"
   ]
  },
  {
   "cell_type": "markdown",
   "id": "b29bb318",
   "metadata": {},
   "source": [
    "** Restructuring the company data: \n",
    "Suppose you have a dictionary that contains information about employees at a company. Each employee is identified by an ID number, and their information includes their name, department, and salary. You want to create a nested dictionary that groups employees by department so that you can easily see the names and salaries of all employees in each department. \n",
    "\n",
    "Write a Python program that when given a dictionary, employees, outputs a nested dictionary, dept_employees, which groups employees by department."
   ]
  },
  {
   "cell_type": "code",
   "execution_count": 75,
   "id": "5c8b02e8",
   "metadata": {},
   "outputs": [
    {
     "name": "stdout",
     "output_type": "stream",
     "text": [
      "{'Engineering': {1001: {'name': 'Alice', 'salary': 75000}, 1003: {'name': 'Charlie', 'salary': 80000}}, 'Sales': {1002: {'name': 'Bob', 'salary': 50000}, 1005: {'name': 'Eve', 'salary': 55000}}, 'Marketing': {1004: {'name': 'Dave', 'salary': 60000}}}\n"
     ]
    }
   ],
   "source": [
    "employees = {\n",
    "    1001:{\"name\":\"Alice\", \"department\":\"Engineering\", \"salary\":75000},\n",
    "    1002:{\"name\":\"Bob\",\"department\":\"Sales\",\"salary\": 50000},\n",
    "    1003:{\"name\":\"Charlie\",\"department\":\"Engineering\",\"salary\":80000},\n",
    "    1004:{\"name\":\"Dave\",\"department\":\"Marketing\",\"salary\":60000},\n",
    "    1005:{\"name\":\"Eve\",\"department\":\"Sales\",\"salary\":55000},\n",
    "}\n",
    "\n",
    "deptEmployees = {}\n",
    "for ID in employees:\n",
    "    department = employees[ID].pop(\"department\")\n",
    "    if department not in deptEmployees:\n",
    "        deptEmployees[department] = dict()\n",
    "        deptEmployees[department][ID] = employees[ID]\n",
    "    else:\n",
    "        deptEmployees[department][ID] = employees[ID]\n",
    "print(deptEmployees)"
   ]
  }
 ],
 "metadata": {
  "kernelspec": {
   "display_name": "Python 3",
   "language": "python",
   "name": "python3"
  },
  "language_info": {
   "codemirror_mode": {
    "name": "ipython",
    "version": 3
   },
   "file_extension": ".py",
   "mimetype": "text/x-python",
   "name": "python",
   "nbconvert_exporter": "python",
   "pygments_lexer": "ipython3",
   "version": "3.11.9"
  }
 },
 "nbformat": 4,
 "nbformat_minor": 5
}
