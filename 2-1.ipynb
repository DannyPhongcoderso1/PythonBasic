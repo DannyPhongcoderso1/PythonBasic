{
 "cells": [
  {
   "cell_type": "code",
   "execution_count": 1,
   "metadata": {},
   "outputs": [
    {
     "name": "stdout",
     "output_type": "stream",
     "text": [
      "11\n"
     ]
    }
   ],
   "source": []
  },
  {
   "cell_type": "markdown",
   "metadata": {
    "notebookRunGroups": {
     "groupValue": "2"
    }
   },
   "source": [
    "***113 cau python***"
   ]
  },
  {
   "cell_type": "markdown",
   "metadata": {},
   "source": [
    "câu 1"
   ]
  },
  {
   "cell_type": "code",
   "execution_count": null,
   "metadata": {},
   "outputs": [],
   "source": [
    "#cau 1 \n",
    "x = \"hello world\"\n",
    "print(len(x))"
   ]
  },
  {
   "cell_type": "markdown",
   "metadata": {},
   "source": [
    "câu 2"
   ]
  },
  {
   "cell_type": "code",
   "execution_count": 5,
   "metadata": {},
   "outputs": [
    {
     "name": "stdout",
     "output_type": "stream",
     "text": [
      "{'g': 2, 'o': 3, 'l': 1, 'e': 1, '.': 1, 'c': 1, 'm': 1}\n"
     ]
    }
   ],
   "source": [
    "#cau 2\n",
    "cList = {}\n",
    "x = \"google.com\"\n",
    "for i in x:\n",
    "    if i not in cList and i != \" \":\n",
    "        cCount = x.count(i)\n",
    "        cList[i] = cCount\n",
    "print(cList)"
   ]
  },
  {
   "cell_type": "markdown",
   "metadata": {},
   "source": [
    "câu 3"
   ]
  },
  {
   "cell_type": "code",
   "execution_count": 13,
   "metadata": {},
   "outputs": [
    {
     "name": "stdout",
     "output_type": "stream",
     "text": [
      "huuy\n"
     ]
    }
   ],
   "source": [
    "#cau 3\n",
    "result = \"\"\n",
    "x = \"huy\"\n",
    "\n",
    "if len(x) > 2:\n",
    "    result = x[0:2] + x[len(x)-2: len(x)]\n",
    "\n",
    "print(result)   \n",
    "        \n"
   ]
  },
  {
   "cell_type": "markdown",
   "metadata": {},
   "source": [
    "câu 4"
   ]
  },
  {
   "cell_type": "code",
   "execution_count": 10,
   "metadata": {},
   "outputs": [
    {
     "name": "stdout",
     "output_type": "stream",
     "text": [
      "goo$le.com\n"
     ]
    }
   ],
   "source": [
    "#cau 4\n",
    "result = x[0]\n",
    "x = \"google.com\"\n",
    "for i in range(1,len(x)):\n",
    "    if x[i] == x[0]:\n",
    "        result += \"$\"\n",
    "    else:\n",
    "        result += x[i]\n",
    "print(result)\n",
    "        "
   ]
  },
  {
   "cell_type": "markdown",
   "metadata": {},
   "source": [
    "câu 5"
   ]
  },
  {
   "cell_type": "code",
   "execution_count": 14,
   "metadata": {},
   "outputs": [
    {
     "name": "stdout",
     "output_type": "stream",
     "text": [
      "xyc abz\n"
     ]
    }
   ],
   "source": [
    "#cau5\n",
    "str1 = \"abc\"\n",
    "str2 = \"xyz\"\n",
    "\n",
    "result = str2[0:2] + str1[2:len(str2)] + \" \" + str1[0:2] + str2[2:len(str2)]\n",
    "\n",
    "print(result)"
   ]
  },
  {
   "cell_type": "markdown",
   "metadata": {},
   "source": [
    "câu 6"
   ]
  },
  {
   "cell_type": "code",
   "execution_count": 17,
   "metadata": {},
   "outputs": [
    {
     "name": "stdout",
     "output_type": "stream",
     "text": [
      "abcing\n"
     ]
    }
   ],
   "source": [
    "#cau 6\n",
    "ing =\"ing\"\n",
    "ly =\"ly\"\n",
    "\n",
    "x = \"abc\"\n",
    "if len(x) >= 3:\n",
    "    if x[len(x)-3:len(x)] == ing:\n",
    "        x += ly\n",
    "    else:\n",
    "        x += ing\n",
    "\n",
    "print(x)\n"
   ]
  },
  {
   "cell_type": "markdown",
   "metadata": {},
   "source": [
    "câu 7"
   ]
  },
  {
   "cell_type": "code",
   "execution_count": 7,
   "metadata": {},
   "outputs": [
    {
     "name": "stdout",
     "output_type": "stream",
     "text": [
      "The lyrics is good!\n"
     ]
    }
   ],
   "source": [
    "#cau 7\n",
    "x = \"The lyrics is not that poor!\"\n",
    "\n",
    "notP = x.find(\"not\")\n",
    "poorP = x.find(\"poor\")\n",
    "\n",
    "result = \"\"\n",
    "\n",
    "if notP < poorP:\n",
    "    result = x[:notP] + \"good\" + x[poorP + 4:]\n",
    "\n",
    "print(result)"
   ]
  },
  {
   "cell_type": "markdown",
   "metadata": {},
   "source": [
    "câu 8"
   ]
  },
  {
   "cell_type": "code",
   "execution_count": 8,
   "metadata": {},
   "outputs": [
    {
     "name": "stdout",
     "output_type": "stream",
     "text": [
      "longest word: lyrics, longest length: 6\n"
     ]
    }
   ],
   "source": [
    "#cau 8\n",
    "a = x.split()\n",
    "length =\"\"\n",
    "for i in a:\n",
    "    if(len(length)< len(i)):\n",
    "        length = i\n",
    "        \n",
    "print(f\"longest word: {length}, longest length: {len(length)}\")"
   ]
  },
  {
   "cell_type": "markdown",
   "metadata": {},
   "source": [
    "câu 9"
   ]
  },
  {
   "cell_type": "code",
   "execution_count": 10,
   "metadata": {},
   "outputs": [
    {
     "name": "stdout",
     "output_type": "stream",
     "text": [
      "hellworld\n"
     ]
    }
   ],
   "source": [
    "#cau 9\n",
    "x = \"helloworld\"\n",
    "indexRemove = int(input(\"nhap thu tu ban muon xoa: \"))\n",
    "result = x[:indexRemove] + x[indexRemove+1: len(x)]\n",
    "print(result)"
   ]
  },
  {
   "cell_type": "markdown",
   "metadata": {},
   "source": [
    "câu 10"
   ]
  },
  {
   "cell_type": "code",
   "execution_count": 12,
   "metadata": {},
   "outputs": [
    {
     "name": "stdout",
     "output_type": "stream",
     "text": [
      "oellh\n"
     ]
    }
   ],
   "source": [
    "#cau 10\n",
    "x = input(\"nhap chuoi: \")\n",
    "result = x[len(x)-1] + x[1:len(x)-1] + x[0]\n",
    "\n",
    "print(result)"
   ]
  },
  {
   "cell_type": "markdown",
   "metadata": {},
   "source": [
    "câu 11"
   ]
  },
  {
   "cell_type": "code",
   "execution_count": 2,
   "metadata": {},
   "outputs": [
    {
     "name": "stdout",
     "output_type": "stream",
     "text": [
      "chaophong\n",
      "capog\n"
     ]
    }
   ],
   "source": [
    "#cau 11\n",
    "x = input(\"nhap chuoi: \")\n",
    "print(x)\n",
    "result = \"\"\n",
    "for i in range(len(x)):\n",
    "    if i % 2 == 0:\n",
    "        result += x[i]\n",
    "\n",
    "print(result)\n",
    "        \n",
    "    \n"
   ]
  },
  {
   "cell_type": "markdown",
   "metadata": {},
   "source": [
    "câu 12"
   ]
  },
  {
   "cell_type": "code",
   "execution_count": 11,
   "metadata": {},
   "outputs": [
    {
     "name": "stdout",
     "output_type": "stream",
     "text": [
      "chao minh la phong day .\n",
      "['chao', 'minh', 'la', 'phong', 'day']\n",
      "5\n"
     ]
    }
   ],
   "source": [
    "#cau 12\n",
    "x = input(\"nhap chuoi: \")\n",
    "print(x)\n",
    "\n",
    "for i in x:\n",
    "    if not i.isalpha():\n",
    "        x = x.replace(i,\" \")\n",
    "listW = x.split()\n",
    "print(listW)\n",
    "print(len(listW))\n"
   ]
  },
  {
   "cell_type": "markdown",
   "metadata": {},
   "source": [
    "câu 13"
   ]
  },
  {
   "cell_type": "code",
   "execution_count": 12,
   "metadata": {},
   "outputs": [
    {
     "name": "stdout",
     "output_type": "stream",
     "text": [
      "HELLO\n",
      "hello\n"
     ]
    }
   ],
   "source": [
    "#cau 13\n",
    "x = input(\"nhap chuoi: \")\n",
    "print(x.upper())\n",
    "print(x.lower())\n",
    "\n",
    "\n"
   ]
  },
  {
   "cell_type": "markdown",
   "metadata": {},
   "source": [
    "câu 14"
   ]
  },
  {
   "cell_type": "code",
   "execution_count": 23,
   "metadata": {},
   "outputs": [
    {
     "name": "stdout",
     "output_type": "stream",
     "text": [
      "['Hoa', 'Phong', 'Tam']\n"
     ]
    }
   ],
   "source": [
    "#cau 14\n",
    "x = input(\"danh sach cac tu: \")\n",
    "listW = [word.strip() for word in x.split(\",\")]\n",
    "listW.sort()\n",
    "\n",
    "print(listW)"
   ]
  },
  {
   "cell_type": "markdown",
   "metadata": {},
   "source": [
    "câu 15"
   ]
  },
  {
   "cell_type": "code",
   "execution_count": 28,
   "metadata": {},
   "outputs": [
    {
     "name": "stdout",
     "output_type": "stream",
     "text": [
      "<i>python</i>\n"
     ]
    }
   ],
   "source": [
    "#cau 15\n",
    "def add_tags(tag, word):\n",
    "    return f\"<{tag}>{word}</{tag}>\"\n",
    "\n",
    "print(add_tags(\"i\",\"python\"))"
   ]
  },
  {
   "cell_type": "markdown",
   "metadata": {},
   "source": [
    "câu 16"
   ]
  },
  {
   "cell_type": "code",
   "execution_count": 29,
   "metadata": {},
   "outputs": [
    {
     "name": "stdout",
     "output_type": "stream",
     "text": [
      "{{{middleword}}}\n"
     ]
    }
   ],
   "source": [
    "#cau 16\n",
    "def insert_string_middle( around ,middle):\n",
    "    midPos = len(around) // 2\n",
    "    return around[:midPos] + middle + around[midPos:]\n",
    "\n",
    "print(insert_string_middle(\"{{{}}}\",\"middleword\"))"
   ]
  },
  {
   "cell_type": "markdown",
   "metadata": {},
   "source": [
    "câu 17"
   ]
  },
  {
   "cell_type": "code",
   "execution_count": 31,
   "metadata": {},
   "outputs": [
    {
     "name": "stdout",
     "output_type": "stream",
     "text": [
      "onononon\n"
     ]
    }
   ],
   "source": [
    "#cau 17\n",
    "def insert_end(word):\n",
    "    result = \"\"\n",
    "    if len(word) > 1:\n",
    "        for i in range(4):\n",
    "            result += word[len(word)-2:]\n",
    "        return result\n",
    "    return \"chuoi qua ngan\"\n",
    "\n",
    "print(insert_end(\"Python\"))"
   ]
  },
  {
   "cell_type": "markdown",
   "metadata": {},
   "source": [
    "câu 18"
   ]
  },
  {
   "cell_type": "code",
   "execution_count": 34,
   "metadata": {},
   "outputs": [
    {
     "name": "stdout",
     "output_type": "stream",
     "text": [
      "py\n"
     ]
    }
   ],
   "source": [
    "#cau 18\n",
    "def first_three(word):\n",
    "    result = \"\"\n",
    "    if len(word) > 2:\n",
    "        return word[:3]\n",
    "    return word\n",
    "\n",
    "print(first_three(\"py\"))"
   ]
  },
  {
   "cell_type": "markdown",
   "metadata": {},
   "source": [
    "câu 19"
   ]
  },
  {
   "cell_type": "code",
   "execution_count": 37,
   "metadata": {},
   "outputs": [
    {
     "name": "stdout",
     "output_type": "stream",
     "text": [
      "python-exercises\n"
     ]
    }
   ],
   "source": [
    "#cau 19\n",
    "def get_last_part(character, string):\n",
    "    for i in range(len(string)):\n",
    "        if string[~i] == character:\n",
    "            return string[~i+1:]\n",
    "    return \"ki tu khong ton tai\"\n",
    "\n",
    "print(get_last_part(\"/\", \"http://www.w3resource.com/python-exercises\"))\n"
   ]
  },
  {
   "cell_type": "markdown",
   "metadata": {},
   "source": [
    "câu 20"
   ]
  },
  {
   "cell_type": "code",
   "execution_count": 39,
   "metadata": {},
   "outputs": [
    {
     "name": "stdout",
     "output_type": "stream",
     "text": [
      "1osredoc\n"
     ]
    }
   ],
   "source": [
    "#cau 20\n",
    "def reverse_string(string):\n",
    "    if len(string) % 4 == 0:\n",
    "        result = \"\"\n",
    "        for i in string:\n",
    "            result = i + result\n",
    "        return result\n",
    "    return \"khong hop le\"\n",
    "\n",
    "print(reverse_string(\"coderso1\"))"
   ]
  },
  {
   "cell_type": "markdown",
   "metadata": {},
   "source": [
    "câu 21"
   ]
  },
  {
   "cell_type": "code",
   "execution_count": 42,
   "metadata": {},
   "outputs": [
    {
     "name": "stdout",
     "output_type": "stream",
     "text": [
      "chuoi khong le\n"
     ]
    }
   ],
   "source": [
    "#cau 21\n",
    "def convert_string(string):\n",
    "    count = 0\n",
    "    if len(string) > 3:\n",
    "        for i in range(4):\n",
    "            if string[i] == string[i].upper():\n",
    "                count += 1\n",
    "        if count > 1:\n",
    "            return string.upper()\n",
    "    return \"chuoi khong hop le\"\n",
    "\n",
    "print(convert_string(\"pythON\"))"
   ]
  },
  {
   "cell_type": "markdown",
   "metadata": {},
   "source": [
    "câu 22"
   ]
  },
  {
   "cell_type": "code",
   "execution_count": 46,
   "metadata": {},
   "outputs": [
    {
     "name": "stdout",
     "output_type": "stream",
     "text": [
      "AHJNdfhjruu\n"
     ]
    }
   ],
   "source": [
    "#cau 22\n",
    "def sort_lexi(string):\n",
    "    listS = [x for x in string]\n",
    "    listS.sort()\n",
    "    result =\"\"\n",
    "    for i in listS:\n",
    "        result += i\n",
    "    return result\n",
    "\n",
    "print(sort_lexi(\"hfujrudAHNJ\"))"
   ]
  },
  {
   "cell_type": "markdown",
   "metadata": {},
   "source": [
    "câu 23"
   ]
  },
  {
   "cell_type": "code",
   "execution_count": 47,
   "metadata": {},
   "outputs": [
    {
     "name": "stdout",
     "output_type": "stream",
     "text": [
      "python\n"
     ]
    }
   ],
   "source": [
    "#cau 23\n",
    "x = \"python\\n\"\n",
    "x = x.replace(\"\\n\",\"\")\n",
    "print(x)"
   ]
  },
  {
   "cell_type": "markdown",
   "metadata": {},
   "source": [
    "câu 24"
   ]
  },
  {
   "cell_type": "code",
   "execution_count": 49,
   "metadata": {},
   "outputs": [
    {
     "name": "stdout",
     "output_type": "stream",
     "text": [
      "False\n"
     ]
    }
   ],
   "source": [
    "#cau 24\n",
    "x = input(\"nhap chuoi: \")\n",
    "char = input(\"nhap ki tu bat dau cua chuoi: \")\n",
    "\n",
    "if x[0] == char:\n",
    "    print(\"True\")\n",
    "else:\n",
    "    print(\"False\")"
   ]
  },
  {
   "cell_type": "markdown",
   "metadata": {},
   "source": [
    "câu 25"
   ]
  },
  {
   "cell_type": "code",
   "execution_count": 55,
   "metadata": {},
   "outputs": [
    {
     "name": "stdout",
     "output_type": "stream",
     "text": [
      "chao123\n",
      "chuoi da ma hoa la: fckhdaro123\n"
     ]
    }
   ],
   "source": [
    "#cau 25\n",
    "x = input(\"nhap chuoi\")\n",
    "shift = int(input(\"nhap so buoc dich chuyen: \"))\n",
    "result = \"\"\n",
    "\n",
    "for i in x:\n",
    "    if i.isalpha():\n",
    "            \n",
    "        newword = chr((ord(i.lower()) - ord('a') + shift)%26 + ord('a'))\n",
    "        if i == i.upper():\n",
    "            result += newword.upper()\n",
    "        result += newword\n",
    "    result += i\n",
    "print(x)       \n",
    "print(f\"chuoi da ma hoa la: {result}\")\n",
    "        "
   ]
  },
  {
   "cell_type": "markdown",
   "metadata": {},
   "source": [
    "câu 26"
   ]
  },
  {
   "cell_type": "code",
   "execution_count": 64,
   "metadata": {},
   "outputs": [
    {
     "name": "stdout",
     "output_type": "stream",
     "text": [
      "\n",
      "aaaaaaaaaaaaaaaaaaaaaaaaaaaaaaaaaaaaaaaaaaaaaaaaaa\n",
      "aaaaaaaaaaaaaaaaaaaaaaaaaaaaaaaaaaaaaaaaaaaaaaaaaa\n"
     ]
    }
   ],
   "source": [
    "#cau 26\n",
    "length = int(input(\"nhap so luong ki tu: \"))\n",
    "x = \"\"\n",
    "result = \"\"\n",
    "for i in range(length):\n",
    "    x += \"a\"\n",
    "for i in range(len(x)):\n",
    "    if i % 50 == 0 and i != 1:\n",
    "        result += \"\\n\"\n",
    "    result += x[i]\n",
    "    \n",
    "print(result)        \n"
   ]
  },
  {
   "cell_type": "markdown",
   "metadata": {},
   "source": [
    "câu 27"
   ]
  },
  {
   "cell_type": "code",
   "execution_count": 68,
   "metadata": {},
   "outputs": [
    {
     "name": "stdout",
     "output_type": "stream",
     "text": [
      "\n",
      "vi du:\n",
      "chao minh la phong\n",
      "chao ban\n",
      "\n",
      "\n"
     ]
    }
   ],
   "source": [
    "#cau 27\n",
    "x = \"\"\" \n",
    "vi du:\n",
    "    chao minh la phong\n",
    "chao ban\n",
    "\"\"\"\n",
    "result =\"\"\n",
    "line = x.split(\"\\n\")\n",
    "listSence = [i.strip() for i in x.split(\"\\n\")]\n",
    "for i in listSence:\n",
    "    result += i + \"\\n\"\n",
    "print(result)"
   ]
  },
  {
   "cell_type": "markdown",
   "metadata": {},
   "source": [
    "câu 28"
   ]
  },
  {
   "cell_type": "code",
   "execution_count": 71,
   "metadata": {},
   "outputs": [
    {
     "name": "stdout",
     "output_type": "stream",
     "text": [
      "btn: vi du:\n",
      "btn: chao minh la phong\n",
      "btn: chao ban\n",
      "\n"
     ]
    }
   ],
   "source": [
    "#cau 28\n",
    "x = \"\"\" vi du:\n",
    "chao minh la phong\n",
    "chao ban\"\"\"\n",
    "result =\"\"\n",
    "line = x.split(\"\\n\")\n",
    "listSence = [i.strip() for i in x.split(\"\\n\")]\n",
    "prefix = input(\"nhap noi dung: \")\n",
    "\n",
    "for i in listSence:\n",
    "    result += prefix + \" \" + i + \"\\n\"\n",
    "    \n",
    "print(result)\n"
   ]
  },
  {
   "cell_type": "markdown",
   "metadata": {},
   "source": [
    "câu 29"
   ]
  },
  {
   "cell_type": "code",
   "execution_count": 74,
   "metadata": {},
   "outputs": [
    {
     "name": "stdout",
     "output_type": "stream",
     "text": [
      "\tvi du:\n",
      "chao minh la phong\n",
      "chao ban\n",
      "\n"
     ]
    }
   ],
   "source": [
    "#cau 29\n",
    "x = \"\"\" vi du:\n",
    "chao minh la phong\n",
    "chao ban\"\"\"\n",
    "result =\"\"\n",
    "line = x.split(\"\\n\")\n",
    "listSence = [i.strip() for i in x.split(\"\\n\")]\n",
    "\n",
    "for i in range(len(listSence)):\n",
    "    if i == 0:\n",
    "        result += \"\\t\" + listSence[i] + \"\\n\"\n",
    "    else:\n",
    "        result += listSence[i]+ \"\\n\"\n",
    "\n",
    "print(result)\n"
   ]
  },
  {
   "cell_type": "markdown",
   "metadata": {},
   "source": [
    "câu 30"
   ]
  },
  {
   "cell_type": "code",
   "execution_count": 75,
   "metadata": {},
   "outputs": [
    {
     "name": "stdout",
     "output_type": "stream",
     "text": [
      "3.12\n"
     ]
    }
   ],
   "source": [
    "#cau 30\n",
    "flnumber = float(input(\"nhap so thuc: \"))\n",
    "\n",
    "print(f\"{flnumber:.2f}\")"
   ]
  },
  {
   "cell_type": "markdown",
   "metadata": {},
   "source": [
    "câu 31"
   ]
  },
  {
   "cell_type": "code",
   "execution_count": 76,
   "metadata": {},
   "outputs": [
    {
     "name": "stdout",
     "output_type": "stream",
     "text": [
      "-2.68\n"
     ]
    }
   ],
   "source": [
    "#cau 31\n",
    "flnumber = float(input(\"nhap so thuc: \"))\n",
    "\n",
    "print(f\"{flnumber:+.2f}\")"
   ]
  },
  {
   "cell_type": "markdown",
   "metadata": {},
   "source": [
    "câu 32"
   ]
  },
  {
   "cell_type": "code",
   "execution_count": 77,
   "metadata": {},
   "outputs": [
    {
     "name": "stdout",
     "output_type": "stream",
     "text": [
      "-48\n"
     ]
    }
   ],
   "source": [
    "#cau 32\n",
    "\n",
    "flnumber = float(input(\"nhap so thuc: \"))\n",
    "\n",
    "print(f\"{flnumber:.0f}\")"
   ]
  },
  {
   "cell_type": "markdown",
   "metadata": {},
   "source": [
    "câu 33"
   ]
  },
  {
   "cell_type": "code",
   "execution_count": 78,
   "metadata": {},
   "outputs": [
    {
     "name": "stdout",
     "output_type": "stream",
     "text": [
      "00003\n"
     ]
    }
   ],
   "source": [
    "#cau 33\n",
    "number = int(input(\"nhap so: \"))\n",
    "bit = int(input(\"nhap so don vi: \"))\n",
    "\n",
    "print(f\"{number:0{bit}d}\")\n"
   ]
  },
  {
   "cell_type": "markdown",
   "metadata": {},
   "source": [
    "câu 34"
   ]
  },
  {
   "cell_type": "code",
   "execution_count": 81,
   "metadata": {},
   "outputs": [
    {
     "name": "stdout",
     "output_type": "stream",
     "text": [
      "3784****\n"
     ]
    }
   ],
   "source": [
    "#cau 34\n",
    "number = int(input(\"nhap so: \"))\n",
    "width = int(input(\"nhap so don vi: \"))\n",
    "\n",
    "print(f\"{number:*<{width}}\")"
   ]
  },
  {
   "cell_type": "markdown",
   "metadata": {},
   "source": [
    "câu 35"
   ]
  },
  {
   "cell_type": "code",
   "execution_count": 83,
   "metadata": {},
   "outputs": [
    {
     "name": "stdout",
     "output_type": "stream",
     "text": [
      "827,483,279.98\n"
     ]
    }
   ],
   "source": [
    "#cau 35\n",
    "number = float(input(\"nhap so: \"))\n",
    "print(f\"{number:,.2f}\")"
   ]
  },
  {
   "cell_type": "markdown",
   "metadata": {},
   "source": [
    "câu 36"
   ]
  },
  {
   "cell_type": "code",
   "execution_count": 86,
   "metadata": {},
   "outputs": [
    {
     "name": "stdout",
     "output_type": "stream",
     "text": [
      "200%\n"
     ]
    }
   ],
   "source": [
    "#cau 36\n",
    "number = float(input(\"nhap so: \"))\n",
    "print(f\"{number:.0%}\")"
   ]
  },
  {
   "cell_type": "markdown",
   "metadata": {},
   "source": [
    "câu 37"
   ]
  },
  {
   "cell_type": "code",
   "execution_count": 87,
   "metadata": {},
   "outputs": [
    {
     "name": "stdout",
     "output_type": "stream",
     "text": [
      "12        \n",
      "        12\n",
      "    12    \n"
     ]
    }
   ],
   "source": [
    "#cau 37\n",
    "number = int(input(\"nhap so: \"))\n",
    "print(f\"{number:<10}\")\n",
    "print(f\"{number:>10}\")\n",
    "print(f\"{number:^10}\")\n"
   ]
  },
  {
   "cell_type": "markdown",
   "metadata": {},
   "source": [
    "câu 38"
   ]
  },
  {
   "cell_type": "code",
   "execution_count": 90,
   "metadata": {},
   "outputs": [
    {
     "name": "stdout",
     "output_type": "stream",
     "text": [
      "chuoi con xuat hien: 3\n"
     ]
    }
   ],
   "source": [
    "#cau 38\n",
    "string = input(\"nhap chuoi: \")\n",
    "substring = input(\"nhap chuoi con: \")\n",
    "count = 0\n",
    "for i in range(len(string)-1):\n",
    "    if string[i:i+2] == substring:\n",
    "        count += 1\n",
    "\n",
    "print(f\"chuoi con xuat hien: {count}\")"
   ]
  },
  {
   "cell_type": "markdown",
   "metadata": {},
   "source": [
    "câu 39"
   ]
  },
  {
   "cell_type": "code",
   "execution_count": 91,
   "metadata": {},
   "outputs": [
    {
     "name": "stdout",
     "output_type": "stream",
     "text": [
      "hello\n",
      "olleh\n"
     ]
    }
   ],
   "source": [
    "#cau 39\n",
    "string = input(\"nhap chuoi: \")\n",
    "result = \"\"\n",
    "for i in string:\n",
    "    result = i + result\n",
    "print(string)\n",
    "print(result)"
   ]
  },
  {
   "cell_type": "markdown",
   "metadata": {},
   "source": [
    "câu 40"
   ]
  },
  {
   "cell_type": "code",
   "execution_count": 93,
   "metadata": {},
   "outputs": [
    {
     "name": "stdout",
     "output_type": "stream",
     "text": [
      "oahc nab ahn \n"
     ]
    }
   ],
   "source": [
    "#cau 40\n",
    "string = input(\"nhap chuoi: \")\n",
    "listW = [i.strip() for i in string.split()]\n",
    "newList = []\n",
    "result = \"\"\n",
    "\n",
    "for i in listW:\n",
    "    word =\"\"\n",
    "    for j in i:\n",
    "        word = j + word\n",
    "    newList.append(word)\n",
    "\n",
    "for i in newList:\n",
    "    result += i + \" \"\n",
    "    \n",
    "print(result)\n"
   ]
  },
  {
   "cell_type": "markdown",
   "metadata": {},
   "source": [
    "câu 41"
   ]
  },
  {
   "cell_type": "code",
   "execution_count": 95,
   "metadata": {},
   "outputs": [
    {
     "name": "stdout",
     "output_type": "stream",
     "text": [
      "ao ba a \n"
     ]
    }
   ],
   "source": [
    "#cau 41\n",
    "string = input(\"nhap chuoi: \")\n",
    "stripC = [i.strip() for i in input(\"nhap cac ki tu muon loai bo: \").split(\",\")]\n",
    "result = \"\"\n",
    "for i in string:\n",
    "    if i not in stripC:\n",
    "        result += i\n",
    "print(result) "
   ]
  },
  {
   "cell_type": "markdown",
   "metadata": {},
   "source": [
    "câu 42"
   ]
  },
  {
   "cell_type": "code",
   "execution_count": 102,
   "metadata": {},
   "outputs": [
    {
     "name": "stdout",
     "output_type": "stream",
     "text": [
      "ohahahaha\n",
      "h: 4\n",
      "a: 4\n"
     ]
    }
   ],
   "source": [
    "#cau 42\n",
    "string = input(\"nhap chuoi: \")\n",
    "dic = {}\n",
    "for i in string:\n",
    "    if i not in dic:\n",
    "        dic[i] = 1\n",
    "    else:\n",
    "        dic[i] += 1\n",
    "print(string)\n",
    "for i in dic:\n",
    "    if dic[i] > 1:\n",
    "        print(f\"{i}: {dic[i]}\")\n",
    "        "
   ]
  },
  {
   "cell_type": "markdown",
   "metadata": {},
   "source": [
    "câu 43"
   ]
  },
  {
   "cell_type": "code",
   "execution_count": 104,
   "metadata": {},
   "outputs": [
    {
     "name": "stdout",
     "output_type": "stream",
     "text": [
      "dien tich tam la: 6.00cm²\n",
      "the tich hinh tru la: 1356.48cm³\n"
     ]
    }
   ],
   "source": [
    "#cau 43\n",
    "length = float(input(\"nhap chieu dai: \"))\n",
    "width = float(input(\"nhap chieu rong: \"))\n",
    "radius = float(input(\"nhap ban kinh: \"))\n",
    "height = float(input(\"nhap chieu cao: \"))\n",
    "\n",
    "area = (length*width)/2\n",
    "volume = 3.14 * radius**2 *height\n",
    "\n",
    "print(f\"dien tich tam la: {area:.2f}cm\\u00b2\")\n",
    "print(f\"the tich hinh tru la: {volume:.2f}cm\\u00b3\")\n"
   ]
  },
  {
   "cell_type": "markdown",
   "metadata": {},
   "source": [
    "câu 44"
   ]
  },
  {
   "cell_type": "code",
   "execution_count": 105,
   "metadata": {},
   "outputs": [
    {
     "name": "stdout",
     "output_type": "stream",
     "text": [
      "current character d position at 0\n",
      "current character a position at 1\n",
      "current character n position at 2\n",
      "current character n position at 3\n",
      "current character y position at 4\n"
     ]
    }
   ],
   "source": [
    "#cau 44\n",
    "string = input(\"nhap chuoi: \")\n",
    "for i in range(len(string)):\n",
    "    print(f\"current character {string[i]} position at {i}\")"
   ]
  },
  {
   "cell_type": "markdown",
   "metadata": {},
   "source": [
    "câu 45"
   ]
  },
  {
   "cell_type": "code",
   "execution_count": 112,
   "metadata": {},
   "outputs": [
    {
     "name": "stdout",
     "output_type": "stream",
     "text": [
      "{'n', 'b', 'a', 'h', 'l', 'q', 'm', 'e', 'i', 'w', 'y', 'v', 'o', 'z', 'c', 'r', 't', 'j', 'f', 's', 'd', 'x', 'u', 'p', 'k', 'g'}\n",
      "{'n', 'b', 'a', 'h', 'l', 'q', 'm', 'e', 'i', 'w', 'y', 'v', 'o', 'z', 'c', 'r', 't', 'j', 'f', 's', 'd', 'x', 'u', 'p', 'k', 'g'}\n",
      "True\n"
     ]
    }
   ],
   "source": [
    "#cau 45\n",
    "alphabet = [i for i in \"abcdefghijklmnopqrstuvwxyz\"]\n",
    "string = \"The quick brown fox jumps over the lazy dog.\"\n",
    "listC = [i.lower() for i in string if i.isalpha()]\n",
    "print(set(alphabet))\n",
    "print(set(listC))\n",
    "if set(alphabet) == set(listC):\n",
    "    print(True)\n",
    "else:\n",
    "    print(False)\n"
   ]
  },
  {
   "cell_type": "markdown",
   "metadata": {},
   "source": [
    "câu 46"
   ]
  },
  {
   "cell_type": "code",
   "execution_count": 114,
   "metadata": {},
   "outputs": [
    {
     "name": "stdout",
     "output_type": "stream",
     "text": [
      "['The', 'quick', 'brown', 'fox', 'jumps', 'over', 'the', 'lazy', 'dog.']\n"
     ]
    }
   ],
   "source": [
    "#cau 46\n",
    "string = input(\"nhap chuoi: \")\n",
    "listW = [i.strip() for i in string.split()]\n",
    "print(listW)"
   ]
  },
  {
   "cell_type": "markdown",
   "metadata": {},
   "source": [
    "câu 47"
   ]
  },
  {
   "cell_type": "code",
   "execution_count": 118,
   "metadata": {},
   "outputs": [
    {
     "name": "stdout",
     "output_type": "stream",
     "text": [
      "CHAOBAN\n",
      "chaOBAN\n"
     ]
    }
   ],
   "source": [
    "#cau 47\n",
    "string = input(\"nhap chuoi: \")\n",
    "n = int(input(\"nhap so ki tu dau chuoi ban muon viet thuong: \"))\n",
    "result = \"\"\n",
    "if len(string) >= n:\n",
    "    for i in range(len(string)):\n",
    "        if i < n:\n",
    "            result += string[i].lower()\n",
    "        else:\n",
    "            result += string[i]\n",
    "    print(string)\n",
    "    print(result)\n",
    "else:\n",
    "    print(\"chuoi ngan hon so ki tu ban yeu cau\")"
   ]
  },
  {
   "cell_type": "markdown",
   "metadata": {},
   "source": [
    "câu 48"
   ]
  },
  {
   "cell_type": "code",
   "execution_count": 120,
   "metadata": {},
   "outputs": [
    {
     "name": "stdout",
     "output_type": "stream",
     "text": [
      "375,869.73848\n"
     ]
    }
   ],
   "source": [
    "#cau 48\n",
    "string = \"375.869,73848\"\n",
    "result =\"\"\n",
    "for i in string:\n",
    "    if i == \".\":\n",
    "        result += \",\"\n",
    "    elif i == \",\":\n",
    "        result += \".\"\n",
    "    else:\n",
    "        result += i\n",
    "print(result)"
   ]
  },
  {
   "cell_type": "markdown",
   "metadata": {},
   "source": [
    "câu 49"
   ]
  },
  {
   "cell_type": "code",
   "execution_count": 127,
   "metadata": {},
   "outputs": [
    {
     "name": "stdout",
     "output_type": "stream",
     "text": [
      "dannydanny\n",
      "{'u': 0, 'e': 0, 'o': 0, 'a': 2, 'i': 0}\n"
     ]
    }
   ],
   "source": [
    "#cau 49\n",
    "vowels = \"ueoai\"\n",
    "vowelsCount = {v: vowels.count(v) - 1  for v in vowels}\n",
    "string = input(\"Nhap chuoi: \")\n",
    "for i in string:\n",
    "    if i.lower() in vowels:\n",
    "        vowelsCount[i] += 1\n",
    "print(string)\n",
    "print(vowelsCount)"
   ]
  },
  {
   "cell_type": "markdown",
   "metadata": {},
   "source": [
    "câu 50"
   ]
  },
  {
   "cell_type": "code",
   "execution_count": 130,
   "metadata": {},
   "outputs": [
    {
     "name": "stdout",
     "output_type": "stream",
     "text": [
      "phan truoc: mot hia ba bon\n",
      "phan sau:  nam sau\n"
     ]
    }
   ],
   "source": [
    "#cau 50\n",
    "string = input(\"nhap chuoi: \")\n",
    "delimiter = input(\"nhap loai ki tu: \")\n",
    "for i in range(len(string)):\n",
    "    if string[~i] == delimiter:\n",
    "        print(f\"phan truoc: {string[:~i]}\")\n",
    "        print(f\"phan sau: {string[~i + 1:]}\")\n",
    "        break"
   ]
  }
 ],
 "metadata": {
  "kernelspec": {
   "display_name": "Python 3",
   "language": "python",
   "name": "python3"
  },
  "language_info": {
   "codemirror_mode": {
    "name": "ipython",
    "version": 3
   },
   "file_extension": ".py",
   "mimetype": "text/x-python",
   "name": "python",
   "nbconvert_exporter": "python",
   "pygments_lexer": "ipython3",
   "version": "3.11.4"
  }
 },
 "nbformat": 4,
 "nbformat_minor": 2
}
