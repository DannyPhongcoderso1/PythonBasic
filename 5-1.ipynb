{
 "cells": [
  {
   "cell_type": "markdown",
   "metadata": {},
   "source": [
    "# ***PYTHON LIST 280 EXERCISES***"
   ]
  },
  {
   "cell_type": "code",
   "execution_count": 19,
   "metadata": {},
   "outputs": [],
   "source": [
    "import random\n",
    "import math"
   ]
  },
  {
   "cell_type": "code",
   "execution_count": 3,
   "metadata": {},
   "outputs": [
    {
     "name": "stdout",
     "output_type": "stream",
     "text": [
      "[3, 2, 6, 9, 5]\n",
      "25\n"
     ]
    }
   ],
   "source": [
    "#câu 1\n",
    "list1 = []\n",
    "for  i in range(5):\n",
    "    num = random.randint(1,10)\n",
    "    list1.append(num)\n",
    "\n",
    "print(list1)\n",
    "print(sum(list1))\n",
    "\n"
   ]
  },
  {
   "cell_type": "code",
   "execution_count": 6,
   "metadata": {},
   "outputs": [
    {
     "name": "stdout",
     "output_type": "stream",
     "text": [
      "[10, 8, 10, 9, 1]\n",
      "7200\n"
     ]
    }
   ],
   "source": [
    "#cau 2\n",
    "list1 = []\n",
    "for  i in range(5):\n",
    "    num = random.randint(1,10)\n",
    "    list1.append(num)\n",
    "\n",
    "mul = 1\n",
    "for i in list1:\n",
    "    mul *= i\n",
    "    \n",
    "print(list1)\n",
    "print(mul)"
   ]
  },
  {
   "cell_type": "code",
   "execution_count": 7,
   "metadata": {},
   "outputs": [
    {
     "name": "stdout",
     "output_type": "stream",
     "text": [
      "[2, 3, 5, 5, 5]\n",
      "5\n"
     ]
    }
   ],
   "source": [
    "#cau 3\n",
    "list1 = []\n",
    "for  i in range(5):\n",
    "    num = random.randint(1,10)\n",
    "    list1.append(num)\n",
    "\n",
    "list1.sort()\n",
    "print(list1)\n",
    "print(list1[-1])"
   ]
  },
  {
   "cell_type": "code",
   "execution_count": 8,
   "metadata": {},
   "outputs": [
    {
     "name": "stdout",
     "output_type": "stream",
     "text": [
      "[2, 3, 4, 9, 9]\n",
      "2\n"
     ]
    }
   ],
   "source": [
    "#cau 4\n",
    "list1 = []\n",
    "for  i in range(5):\n",
    "    num = random.randint(1,10)\n",
    "    list1.append(num)\n",
    "\n",
    "list1.sort()\n",
    "print(list1)\n",
    "print(list1[0])"
   ]
  },
  {
   "cell_type": "code",
   "execution_count": 9,
   "metadata": {},
   "outputs": [
    {
     "name": "stdout",
     "output_type": "stream",
     "text": [
      "2\n"
     ]
    }
   ],
   "source": [
    "#cau 5\n",
    "list1 = ['abc', 'xyz', 'aba', '1221']\n",
    "count =0\n",
    "for i in list1:\n",
    "    if i[0] == i[-1]:\n",
    "        count += 1\n",
    "\n",
    "print(count)"
   ]
  },
  {
   "cell_type": "code",
   "execution_count": 6,
   "metadata": {},
   "outputs": [
    {
     "name": "stdout",
     "output_type": "stream",
     "text": [
      "[(9, 1), (3, 2), (8, 3), (4, 5), (10, 6), (6, 7), (7, 9), (2, 11), (5, 13), (1, 17)]\n"
     ]
    }
   ],
   "source": [
    "#cau 6\n",
    "# sampleList = [(2, 5), (1, 2), (4, 4), (2, 3), (2, 1)]\n",
    "# sampleList = [(2, 9), (1, 8), (3, 7), (4, 6), (5, 5), (6, 4), (7, 3), (8, 2), (9, 1)]\n",
    "sampleList = [(5, 13), (3, 2), (7, 9), (1, 17), (9, 1), (4, 5), (2, 11), (8, 3), (6, 7), (10, 6)]\n",
    "\n",
    "# for i in range(len(sampleList)):\n",
    "#     for j in range(i,len(sampleList)):\n",
    "#         if sampleList[i][1] > sampleList[j][1]:\n",
    "#             sampleList[i], sampleList[j] = sampleList[j], sampleList[i]\n",
    "\n",
    "count = True\n",
    "while count:\n",
    "    count = False\n",
    "    for i in range(len(sampleList)-1):\n",
    "        if sampleList[i][1] > sampleList[i+1][1]:\n",
    "            sampleList[i], sampleList[i+1] = sampleList[i+1], sampleList[i]\n",
    "            count = True\n",
    "    \n",
    "\n",
    "print(sampleList)\n",
    "            \n"
   ]
  },
  {
   "cell_type": "code",
   "execution_count": 9,
   "metadata": {},
   "outputs": [
    {
     "name": "stdout",
     "output_type": "stream",
     "text": [
      "[5, 8, 3, 7, 2, 9, 1]\n"
     ]
    }
   ],
   "source": [
    "#cau 7\n",
    "sample_list = [5, 8, 3, 5, 7, 8, 2, 9, 1, 3, 2]\n",
    "countDict = {}\n",
    "setList =[]\n",
    "for i in sample_list:\n",
    "    if i not in countDict:\n",
    "        countDict[i] = 1\n",
    "    else:\n",
    "        countDict[i] += 1\n",
    "for key in countDict:\n",
    "        setList.append(key)\n",
    "print(setList)"
   ]
  },
  {
   "cell_type": "code",
   "execution_count": 8,
   "metadata": {},
   "outputs": [
    {
     "name": "stdout",
     "output_type": "stream",
     "text": [
      "empty list\n"
     ]
    }
   ],
   "source": [
    "#cau 8\n",
    "sample_list =[]\n",
    "if len(sample_list) == 0:\n",
    "    print(\"empty list\")\n",
    "else:\n",
    "    print(sample_list)"
   ]
  },
  {
   "cell_type": "code",
   "execution_count": 1,
   "metadata": {},
   "outputs": [
    {
     "name": "stdout",
     "output_type": "stream",
     "text": [
      "[5, 8, 3, 5, 7, 8, 2, 9, 1, 3, 2]\n"
     ]
    }
   ],
   "source": [
    "#cau 9\n",
    "sample_list = [5, 8, 3, 5, 7, 8, 2, 9, 1, 3, 2]\n",
    "newlist = sample_list.copy()\n",
    "print(newlist)"
   ]
  },
  {
   "cell_type": "code",
   "execution_count": 4,
   "metadata": {},
   "outputs": [
    {
     "name": "stdout",
     "output_type": "stream",
     "text": [
      "list of words longer than n: ['energy', 'flower', 'island', 'journey']\n"
     ]
    }
   ],
   "source": [
    "#Cau 10\n",
    "n = int(input(\"nhap chieu dai cua chuoi: \"))\n",
    "wordsList = [\n",
    "    \"apple\",\n",
    "    \"book\",\n",
    "    \"cloud\",\n",
    "    \"dream\",\n",
    "    \"energy\",\n",
    "    \"flower\",\n",
    "    \"gold\",\n",
    "    \"house\",\n",
    "    \"island\",\n",
    "    \"journey\"\n",
    "]\n",
    "newList =[]\n",
    "for i in wordsList:\n",
    "    if len(i) > n:\n",
    "        newList.append(i)\n",
    "\n",
    "print(f\"list of words longer than n: {newList}\")\n",
    "        \n"
   ]
  },
  {
   "cell_type": "code",
   "execution_count": 5,
   "metadata": {},
   "outputs": [
    {
     "name": "stdout",
     "output_type": "stream",
     "text": [
      "True\n"
     ]
    }
   ],
   "source": [
    "#cau 11\n",
    "def one_common_member(list1, list2):\n",
    "    for item in list1:\n",
    "        if item in list2:\n",
    "            return True\n",
    "    return False\n",
    "\n",
    "a = [1, 2, 3, 4]\n",
    "b = [5, 6, 3]\n",
    "\n",
    "print(one_common_member(a, b)) \n",
    "\n"
   ]
  },
  {
   "cell_type": "code",
   "execution_count": 8,
   "metadata": {},
   "outputs": [
    {
     "name": "stdout",
     "output_type": "stream",
     "text": [
      "['Green', 'White', 'Black']\n"
     ]
    }
   ],
   "source": [
    "#cau 12 *\n",
    "sampleList =['Red', 'Green', 'White', 'Black', 'Pink', 'Yellow']\n",
    "del sampleList[5]\n",
    "del sampleList[4]\n",
    "del sampleList[0]\n",
    "print(sampleList)"
   ]
  },
  {
   "cell_type": "code",
   "execution_count": 12,
   "metadata": {},
   "outputs": [
    {
     "name": "stdout",
     "output_type": "stream",
     "text": [
      "['*', '*', '*', '*', '*', '*']\n",
      "['*', '*', '*', '*', '*', '*']\n",
      "['*', '*', '*', '*', '*', '*']\n",
      "['*', '*', '*', '*', '*', '*']\n",
      "\n",
      "['*', '*', '*', '*', '*', '*']\n",
      "['*', '*', '*', '*', '*', '*']\n",
      "['*', '*', '*', '*', '*', '*']\n",
      "['*', '*', '*', '*', '*', '*']\n",
      "\n",
      "['*', '*', '*', '*', '*', '*']\n",
      "['*', '*', '*', '*', '*', '*']\n",
      "['*', '*', '*', '*', '*', '*']\n",
      "['*', '*', '*', '*', '*', '*']\n",
      "\n"
     ]
    }
   ],
   "source": [
    "#cau 13\n",
    "array3d = [[[\"*\" for _ in range(6)] for _ in range(4)] for _ in range(3)]\n",
    "for layer in array3d:\n",
    "    for row in layer:\n",
    "        print(row)\n",
    "    print()  \n",
    "\n"
   ]
  },
  {
   "cell_type": "code",
   "execution_count": 15,
   "metadata": {},
   "outputs": [
    {
     "name": "stdout",
     "output_type": "stream",
     "text": [
      "[1, 3, 5, 7, 9]\n"
     ]
    }
   ],
   "source": [
    "#Cau 14 \n",
    "numbers = [1, 2, 3, 4, 5, 6, 7, 8, 9, 10]\n",
    "i = len(numbers) - 1\n",
    "while i >= 0:\n",
    "    if numbers[i] % 2 == 0:\n",
    "        del numbers[i]\n",
    "    i -= 1\n",
    "print(numbers)\n"
   ]
  },
  {
   "cell_type": "markdown",
   "metadata": {},
   "source": [
    "15. Write a Python program to shuffle and print a specified list."
   ]
  },
  {
   "cell_type": "code",
   "execution_count": 18,
   "metadata": {},
   "outputs": [
    {
     "name": "stdout",
     "output_type": "stream",
     "text": [
      "shuffled list: [8, 4, 2, 10, 6, 5, 9, 3, 1, 7]\n"
     ]
    }
   ],
   "source": [
    "#Cau 15\n",
    "numbers = [1, 2, 3, 4, 5, 6, 7, 8, 9, 10]\n",
    "random.shuffle(numbers)\n",
    "print(f\"shuffled list: {numbers}\")\n"
   ]
  },
  {
   "cell_type": "markdown",
   "metadata": {},
   "source": [
    "16. Write a Python program to generate and print a list of the first and last 5 elements where the values are square numbers between 1 and 30 (both\n",
    "included)."
   ]
  },
  {
   "cell_type": "code",
   "execution_count": 25,
   "metadata": {},
   "outputs": [
    {
     "name": "stdout",
     "output_type": "stream",
     "text": [
      "[1, 4, 9, 16, 25]\n",
      "[1, 4, 9, 16, 25]\n"
     ]
    }
   ],
   "source": [
    "#Cau 16\n",
    "\n",
    "newList = []\n",
    "for i in range(1,n):\n",
    "    number = i*i\n",
    "    if number <= 30:\n",
    "        newList.append(number)\n",
    "    else:\n",
    "        break\n",
    "\n",
    "print(newList[:5])\n",
    "print(newList[len(newList) - 5:])\n",
    "    "
   ]
  },
  {
   "cell_type": "markdown",
   "metadata": {},
   "source": [
    "17. Write a Python program to check if each number is prime in a given list of numbers. Return True if all numbers are prime otherwise False.\n",
    "Sample Data:\n",
    "([0, 3, 4, 7, 9]) -> False\n",
    "([3, 5, 7, 13]) -> True\n",
    "([1, 5, 3]) -> False"
   ]
  },
  {
   "cell_type": "code",
   "execution_count": 30,
   "metadata": {},
   "outputs": [
    {
     "name": "stdout",
     "output_type": "stream",
     "text": [
      "False\n"
     ]
    }
   ],
   "source": [
    "#Cau 17\n",
    "# List = [0, 3, 4, 7, 9]\n",
    "# List = [3, 5, 7, 13]\n",
    "List = [1, 5, 3]\n",
    "def is_prime(n):\n",
    "    if n < 2:\n",
    "        return False\n",
    "    for i in range(2, int(math.sqrt(n))):\n",
    "        if n % i == 0:\n",
    "            return False\n",
    "    return True\n",
    "def is_prime_list():\n",
    "    for i in List:\n",
    "        if not is_prime(i):\n",
    "            return False\n",
    "    return True\n",
    "\n",
    "print(is_prime_list())"
   ]
  },
  {
   "cell_type": "code",
   "execution_count": null,
   "metadata": {},
   "outputs": [],
   "source": [
    "#cau 18\n"
   ]
  },
  {
   "cell_type": "code",
   "execution_count": 10,
   "metadata": {},
   "outputs": [
    {
     "name": "stdout",
     "output_type": "stream",
     "text": [
      "difference in list1: {1, 2, 3}\n",
      "difference in list2: {8, 6, 7}\n"
     ]
    }
   ],
   "source": [
    "#cau 19\n",
    "list1 = [1, 2, 3, 4, 5]\n",
    "list2 = [4, 5, 6, 7, 8]\n",
    "\n",
    "print(f\"difference in list1: {set(list1) - set(list2)}\")\n",
    "print(f\"difference in list2: {set(list2) - set(list1)}\")\n",
    "\n"
   ]
  },
  {
   "cell_type": "code",
   "execution_count": 11,
   "metadata": {},
   "outputs": [
    {
     "name": "stdout",
     "output_type": "stream",
     "text": [
      "value: apple, index: 0\n",
      "value: banana, index: 1\n",
      "value: cherry, index: 2\n"
     ]
    }
   ],
   "source": [
    "#Cau 20\n",
    "fruits = ['apple', 'banana', 'cherry']\n",
    "for i in range(len(fruits)):\n",
    "    print(f\"value: {fruits[i]}, index: {i}\")"
   ]
  },
  {
   "cell_type": "code",
   "execution_count": 14,
   "metadata": {},
   "outputs": [
    {
     "name": "stdout",
     "output_type": "stream",
     "text": [
      "hello\n",
      "hello\n"
     ]
    }
   ],
   "source": [
    "#cau 21\n",
    "characters = ['h','e','l','l','o']\n",
    "string =''\n",
    "\n",
    "\n",
    "for i in characters:\n",
    "    string += i\n",
    "print(string)\n",
    "\n",
    "result= ''.join(characters)\n",
    "print(result)"
   ]
  },
  {
   "cell_type": "markdown",
   "metadata": {},
   "source": [
    "22. Write a Python program to find the index of an item in a specified list."
   ]
  },
  {
   "cell_type": "code",
   "execution_count": 2,
   "metadata": {},
   "outputs": [
    {
     "name": "stdout",
     "output_type": "stream",
     "text": [
      "index of the word: 1\n"
     ]
    }
   ],
   "source": [
    "#cau 22\n",
    "wordsList = ['apple', 'banana', 'cherry', 'date']\n",
    "\n",
    "word = input(\"nhap tu ban tim: \")\n",
    "if word in wordsList:\n",
    "    index = wordsList.index(word)\n",
    "    print(f\"index of the word: {index}\")\n",
    "else:\n",
    "    print(\"not available\")"
   ]
  },
  {
   "cell_type": "markdown",
   "metadata": {},
   "source": [
    "23. Write a Python program to flatten a shallow list"
   ]
  },
  {
   "cell_type": "code",
   "execution_count": 3,
   "metadata": {},
   "outputs": [
    {
     "name": "stdout",
     "output_type": "stream",
     "text": [
      "[1, 2, 3, 4, 5, 6]\n"
     ]
    }
   ],
   "source": [
    "#Cau 23\n",
    "shallowList = [[1, 2], [3, 4], [5, 6]]\n",
    "flatList = []\n",
    "for subList in shallowList:\n",
    "    for i in subList:\n",
    "        flatList.append(i)\n",
    "print(flatList)   \n",
    "\n"
   ]
  },
  {
   "cell_type": "markdown",
   "metadata": {},
   "source": [
    "24. Write a Python program to append a list to the second list."
   ]
  },
  {
   "cell_type": "code",
   "execution_count": 6,
   "metadata": {},
   "outputs": [
    {
     "name": "stdout",
     "output_type": "stream",
     "text": [
      "[[35, 12, 16, 74, 9, 64, 42, 7, 32, 32]]\n"
     ]
    }
   ],
   "source": [
    "#24\n",
    "subList = []\n",
    "List = []\n",
    "n = int(input(\"nhap so phan tu cua subList: \"))\n",
    "for i in range(n):\n",
    "    number = random.randint(1,100)\n",
    "    subList.append(number)\n",
    "List.append(subList)\n",
    "print(List)"
   ]
  },
  {
   "cell_type": "markdown",
   "metadata": {},
   "source": [
    "25. Write a Python program to select an item randomly from a list."
   ]
  },
  {
   "cell_type": "code",
   "execution_count": 9,
   "metadata": {},
   "outputs": [
    {
     "name": "stdout",
     "output_type": "stream",
     "text": [
      "[78, 78, 64, 55, 10, 4, 53, 2, 73, 60]\n",
      "Random item selected: 55\n"
     ]
    }
   ],
   "source": [
    "#cau 25\n",
    "def generate_list():\n",
    "    List = []\n",
    "    n = int(input(\"nhap so phan tu cua List: \"))\n",
    "    for i in range(n):\n",
    "        number = random.randint(1,100)\n",
    "        List.append(number)\n",
    "    print(List)\n",
    "    return List \n",
    "\n",
    "def select_random_item(list):\n",
    "    randomItem = random.choice(list)\n",
    "    print(f\"Random item selected: {randomItem}\")\n",
    "\n",
    "if __name__ == '__main__':\n",
    "    select_random_item(generate_list())"
   ]
  },
  {
   "cell_type": "markdown",
   "metadata": {},
   "source": [
    "26. Write a Python program to check whether two lists are circularly identical."
   ]
  },
  {
   "cell_type": "code",
   "execution_count": 14,
   "metadata": {},
   "outputs": [
    {
     "name": "stdout",
     "output_type": "stream",
     "text": [
      "list1 and list2 are circularly identical:  \n"
     ]
    }
   ],
   "source": [
    "#Cau 26\n",
    "list1 = [1, 2, 3, 4]\n",
    "list2 = [3, 4, 1, 2]\n",
    "def are_circularly_identical(list1,list2):\n",
    "    if len(list1) != len(list2):\n",
    "        return False\n",
    "    for i in range(len(list1)):\n",
    "        if list1 == list2[i:] + list2[:i]:\n",
    "            return True\n",
    "    return False\n",
    "if __name__ =='__main__':\n",
    "    print(\"list1 and list2 are circularly identical  \"if are_circularly_identical(list1, list2) else \"ist1 and list2 are not circularly identical\")\n"
   ]
  },
  {
   "cell_type": "markdown",
   "metadata": {},
   "source": [
    "27. Write a Python program to find the second smallest number in a list."
   ]
  },
  {
   "cell_type": "code",
   "execution_count": 18,
   "metadata": {},
   "outputs": [
    {
     "name": "stdout",
     "output_type": "stream",
     "text": [
      "second smallest number is: 3\n"
     ]
    }
   ],
   "source": [
    "numbers = [4, 1, 7, 3, 9]\n",
    "newList = sorted(numbers)\n",
    "def second_smallest(list):\n",
    "    if len(list) < 2:\n",
    "        print(\"there is no second smallest number in the list\")\n",
    "    for i in range(len(newList)-1):\n",
    "        if newList[i] != newList[i+1]:\n",
    "            print(f\"second smallest number is: {newList[i+1]}\")\n",
    "            break\n",
    "\n",
    "if __name__=='__main__':\n",
    "    second_smallest(newList)"
   ]
  },
  {
   "cell_type": "markdown",
   "metadata": {},
   "source": [
    "28. Write a Python program to find the second largest number in a list."
   ]
  },
  {
   "cell_type": "code",
   "execution_count": 22,
   "metadata": {},
   "outputs": [
    {
     "name": "stdout",
     "output_type": "stream",
     "text": [
      "second smallest number is: 7\n"
     ]
    }
   ],
   "source": [
    "numbers = [4, 1, 7, 3, 9]\n",
    "newList = sorted(numbers)\n",
    "\n",
    "def second_largest(list):\n",
    "    i = len(list) - 1\n",
    "    if i + 1 < 2:\n",
    "        print(\"there is no second largest number in the list\")\n",
    "    while i > 0:\n",
    "        if newList[i] != newList[i-1]:\n",
    "            print(f\"second smallest number is: {newList[i-1]}\")\n",
    "            break\n",
    "        i -=1\n",
    "\n",
    "if __name__=='__main__':\n",
    "    second_largest(newList)"
   ]
  },
  {
   "cell_type": "markdown",
   "metadata": {},
   "source": [
    "29. Write a Python program to get unique values from a list."
   ]
  },
  {
   "cell_type": "code",
   "execution_count": 28,
   "metadata": {},
   "outputs": [
    {
     "name": "stdout",
     "output_type": "stream",
     "text": [
      "unique values:  2 "
     ]
    }
   ],
   "source": [
    "numbers = [4, 1, 3, 1, 2, 4, 3]\n",
    "\n",
    "def unique_values(list):\n",
    "    numbersDict = {}\n",
    "    for num in numbers:\n",
    "        if num in numbersDict:\n",
    "            numbersDict[num] += 1\n",
    "        else:\n",
    "            numbersDict[num] = 1\n",
    "\n",
    "    print(\"unique values: \", end=\" \")\n",
    "    for key in numbersDict:\n",
    "        if numbersDict[key] == 1:\n",
    "            print(key, end=\" \")\n",
    "            \n",
    "if __name__=='__main__':\n",
    "    unique_values(numbers)\n"
   ]
  },
  {
   "cell_type": "markdown",
   "metadata": {},
   "source": [
    "30. Write a Python program to get the frequency of elements in a list."
   ]
  },
  {
   "cell_type": "code",
   "execution_count": 31,
   "metadata": {},
   "outputs": [
    {
     "name": "stdout",
     "output_type": "stream",
     "text": [
      "[50, 34, 48, 4, 7, 3, 97, 73, 61, 42, 72, 24, 48, 79, 94, 89, 15, 60, 16, 65]\n",
      "{50: 1, 34: 1, 48: 2, 4: 1, 7: 1, 3: 1, 97: 1, 73: 1, 61: 1, 42: 1, 72: 1, 24: 1, 79: 1, 94: 1, 89: 1, 15: 1, 60: 1, 16: 1, 65: 1}\n"
     ]
    }
   ],
   "source": [
    "def generate_list():\n",
    "    List = []\n",
    "    n = int(input(\"nhap so phan tu cua List: \"))\n",
    "    for i in range(n):\n",
    "        number = random.randint(1,100)\n",
    "        List.append(number)\n",
    "    print(List)\n",
    "    return List \n",
    "\n",
    "def frequency_of_elements(list):\n",
    "    numbersDict = {}\n",
    "    for num in list:\n",
    "        if num in numbersDict:\n",
    "            numbersDict[num] += 1\n",
    "        else:\n",
    "            numbersDict[num] = 1\n",
    "    print(numbersDict)\n",
    "\n",
    "if __name__=='__main__':\n",
    "    frequency_of_elements(generate_list())"
   ]
  },
  {
   "cell_type": "markdown",
   "metadata": {},
   "source": [
    "31. Write a Python program to count the number of elements in a list within a specified range."
   ]
  },
  {
   "cell_type": "code",
   "execution_count": 7,
   "metadata": {},
   "outputs": [
    {
     "name": "stdout",
     "output_type": "stream",
     "text": [
      "[40, 49, 54, 24, 89, 78, 2, 26, 37, 29, 31, 88, 99, 88, 92, 29, 67, 27, 56, 42]\n",
      "number of elements in range: 1\n"
     ]
    }
   ],
   "source": [
    "#Cau 31\n",
    "def generate_list():\n",
    "    List = []\n",
    "    n = int(input(\"nhap so phan tu cua List: \"))\n",
    "    for i in range(n):\n",
    "        number = random.randint(1,100)\n",
    "        List.append(number)\n",
    "    print(List)\n",
    "    return List \n",
    "\n",
    "def count_number(min, max, list):\n",
    "    count = 0\n",
    "    for i in list:\n",
    "        if i >= min and i <= max:\n",
    "            count += 1\n",
    "    print(f\"number of elements in range: {count}\")\n",
    "\n",
    "if __name__ == '__main__':\n",
    "    minValue = int(input(\"nhap gia tri nho nhat trong khoang: \"))\n",
    "    maxValue = int(input(\"nhap gia tri lon nhat trong khoang: \"))\n",
    "    count_number(minValue, maxValue, generate_list())"
   ]
  },
  {
   "cell_type": "markdown",
   "metadata": {},
   "source": [
    "32. Write a Python program to check whether a list contains a sublist"
   ]
  },
  {
   "cell_type": "code",
   "execution_count": null,
   "metadata": {},
   "outputs": [],
   "source": [
    "#Cau32\n",
    "mainList = [1, 2, 3, 4, 5]\n",
    "subList = [3, 4]\n",
    "\n",
    "def having_sublist(mainList, subList):\n",
    "    n = len(subList)\n",
    "    if n == 0:\n",
    "        return True\n",
    "    for i in range(len(mainList) - n + 1):\n",
    "        if mainList[i:i+n] == subList:\n",
    "            return True\n",
    "    return False\n",
    "\n",
    "if __name__ == '__main__':\n",
    "    if having_sublist(mainList, subList):\n",
    "        print(\"contains a sublist\")\n",
    "    else:\n",
    "        print(\"does not contain a sublist\")    "
   ]
  },
  {
   "cell_type": "markdown",
   "metadata": {},
   "source": [
    "33. Write a Python program to generate all sublists of a list."
   ]
  },
  {
   "cell_type": "code",
   "execution_count": 10,
   "metadata": {},
   "outputs": [
    {
     "name": "stdout",
     "output_type": "stream",
     "text": [
      "[]\n",
      "[1]\n",
      "[2]\n",
      "[3]\n",
      "[4]\n",
      "[5]\n",
      "[1, 2]\n",
      "[2, 3]\n",
      "[3, 4]\n",
      "[4, 5]\n",
      "[1, 2, 3]\n",
      "[2, 3, 4]\n",
      "[3, 4, 5]\n",
      "[1, 2, 3, 4]\n",
      "[2, 3, 4, 5]\n"
     ]
    }
   ],
   "source": [
    "#cau 33\n",
    "List = [1, 2, 3, 4, 5]\n",
    "n = 0\n",
    "subList = []\n",
    "while n < len(List):\n",
    "    \n",
    "    if n == 0:\n",
    "        print(subList)\n",
    "        n += 1\n",
    "    for i in range(len(List) - n +1):\n",
    "        subList = List[i:i+n]\n",
    "        print(subList)\n",
    "    n += 1"
   ]
  },
  {
   "cell_type": "markdown",
   "metadata": {},
   "source": [
    "34. Write a Python program that uses the Sieve of Eratosthenes method to\n",
    "compute prime numbers up to a specified number.\n",
    "Note: In mathematics, the sieve of Eratosthenes, (Ancient Greek: κόσκινον\n",
    "Ἐρατοσθένους, kóskinon Eratosthénous) one of a number of prime number\n",
    "sieves, is a simple, ancient algorithm for finding all prime numbers up to any given limit."
   ]
  },
  {
   "cell_type": "code",
   "execution_count": null,
   "metadata": {},
   "outputs": [],
   "source": []
  },
  {
   "cell_type": "markdown",
   "metadata": {},
   "source": [
    "35. Write a Python program to create a list by concatenating a given list with a\n",
    "range from 1 to n.\n",
    "Sample list : ['p', 'q']\n",
    "n =5\n",
    "Sample Output : ['p1', 'q1', 'p2', 'q2', 'p3', 'q3', 'p4', 'q4', 'p5', 'q5']"
   ]
  },
  {
   "cell_type": "code",
   "execution_count": 11,
   "metadata": {},
   "outputs": [
    {
     "name": "stdout",
     "output_type": "stream",
     "text": [
      "['p1', 'q1', 'p2', 'q2', 'p3', 'q3', 'p4', 'q4', 'p5', 'q5']\n"
     ]
    }
   ],
   "source": [
    "sampleList = ['p', 'q']\n",
    "n = int(input(\"nhap n: \"))\n",
    "newList = []\n",
    "for i in range(1,n+1):\n",
    "    for item in sampleList:\n",
    "        newList.append(item+str(i))\n",
    "print(newList)"
   ]
  },
  {
   "cell_type": "markdown",
   "metadata": {},
   "source": [
    "36. Write a Python program to get a variable with an identification number or string."
   ]
  },
  {
   "cell_type": "code",
   "execution_count": null,
   "metadata": {},
   "outputs": [],
   "source": []
  },
  {
   "cell_type": "markdown",
   "metadata": {},
   "source": [
    "37. Write a Python program to find common items in two lists."
   ]
  },
  {
   "cell_type": "code",
   "execution_count": 13,
   "metadata": {},
   "outputs": [
    {
     "name": "stdout",
     "output_type": "stream",
     "text": [
      "common items: [4, 5]\n",
      "Common items: [4, 5]\n"
     ]
    }
   ],
   "source": [
    "#cau 37\n",
    "list1 = [1, 2, 3, 4, 5]\n",
    "list2 = [4, 5, 6, 7, 8]\n",
    "commonItems = []\n",
    "for i in list1:\n",
    "    if i in list2:\n",
    "        commonItems.append(i)\n",
    "print(f\"common items: {commonItems}\")\n",
    "\n",
    "commonElements = list(set(list1) & set(list2))\n",
    "\n",
    "print(f\"Common items: {commonElements}\")\n"
   ]
  },
  {
   "cell_type": "markdown",
   "metadata": {},
   "source": [
    "38. Write a Python program to change the position of every n-th value to the\n",
    "(n+1)th in a list.\n",
    "Sample list: [0, 1, 2, 3, 4, 5]\n",
    "Expected Output: [1, 0, 3, 2, 5, 4]"
   ]
  },
  {
   "cell_type": "code",
   "execution_count": 14,
   "metadata": {},
   "outputs": [
    {
     "name": "stdout",
     "output_type": "stream",
     "text": [
      "[1, 0, 3, 2, 5, 4]\n"
     ]
    }
   ],
   "source": [
    "#cau 38\n",
    "sampleList = [0, 1, 2, 3, 4, 5]\n",
    "i = 0\n",
    "while i < len(sampleList) - 1:\n",
    "    sampleList[i], sampleList[i+1] = sampleList[i+1], sampleList[i]\n",
    "    i += 2\n",
    "print(sampleList) "
   ]
  },
  {
   "cell_type": "markdown",
   "metadata": {},
   "source": [
    "39. Write a Python program to convert a list of multiple integers into a single\n",
    "integer.\n",
    "Sample list: [11, 33, 50]\n",
    "Expected Output: 113350"
   ]
  },
  {
   "cell_type": "code",
   "execution_count": 17,
   "metadata": {},
   "outputs": [
    {
     "name": "stdout",
     "output_type": "stream",
     "text": [
      "113350\n"
     ]
    }
   ],
   "source": [
    "#Cau 39\n",
    "sampleList = [11, 33, 50]\n",
    "singleInteger = \"\"\n",
    "for i in sampleList:\n",
    "    singleInteger += str(i)\n",
    "print(int(singleInteger))"
   ]
  },
  {
   "cell_type": "markdown",
   "metadata": {},
   "source": [
    "40. Write a Python program to split a list based on the first character of a word."
   ]
  },
  {
   "cell_type": "code",
   "execution_count": 20,
   "metadata": {},
   "outputs": [
    {
     "name": "stdout",
     "output_type": "stream",
     "text": [
      "{'a': ['apple', 'ant'], 'b': ['banana', 'bat'], 'c': ['cat', 'car'], 'd': ['dog']}\n"
     ]
    }
   ],
   "source": [
    "#cau 40\n",
    "words = [\"apple\", \"ant\", \"banana\", \"bat\", \"cat\", \"car\", \"dog\"]\n",
    "def split_list(list):\n",
    "    wordsDict = {}\n",
    "    for word in list:\n",
    "        if word[0] not in wordsDict:\n",
    "            wordsDict[word[0]] = [word]\n",
    "        else:\n",
    "            wordsDict[word[0]].append(word)\n",
    "    print(wordsDict)\n",
    "\n",
    "if __name__ == \"__main__\":\n",
    "    split_list(words)"
   ]
  },
  {
   "cell_type": "markdown",
   "metadata": {},
   "source": [
    "41. Write a Python program to create multiple lists."
   ]
  },
  {
   "cell_type": "code",
   "execution_count": 23,
   "metadata": {},
   "outputs": [
    {
     "name": "stdout",
     "output_type": "stream",
     "text": [
      "[[97, 60, 92, 13, 96], [8, 53, 19, 98, 76], [8, 100, 77, 79, 78]]\n"
     ]
    }
   ],
   "source": [
    "#cau 41\n",
    "def generate_lists():\n",
    "    numberOfList = int(input(\"nhap so luong list: \"))\n",
    "    numberOfItemInList = int(input(\"nhap so luong phan tu: \"))\n",
    "    Lists = [[] for _ in range(numberOfList)]\n",
    "    for list in Lists:\n",
    "        for i in range(numberOfItemInList):\n",
    "            number = random.randint(1,100)\n",
    "            list.append(number)\n",
    "    print(Lists)\n",
    "    \n",
    "if __name__ == \"__main__\":\n",
    "    generate_lists()       "
   ]
  },
  {
   "cell_type": "markdown",
   "metadata": {},
   "source": [
    "42. Write a Python program to find missing and additional values in two lists.\n",
    "Sample data : Missing values in second list: b,a,c\n",
    "Additional values in second list: g,h"
   ]
  },
  {
   "cell_type": "code",
   "execution_count": null,
   "metadata": {},
   "outputs": [
    {
     "name": "stdout",
     "output_type": "stream",
     "text": [
      "Missing values in list 2: {'a', 'b', 'c'}\n",
      "Additional values in list 2: {'g', 'h'}\n"
     ]
    }
   ],
   "source": [
    "#cau 42\n",
    "list1 = ['a', 'b', 'c', 'd', 'e', 'f']\n",
    "list2 = ['d', 'e', 'f', 'g', 'h']\n",
    "\n",
    "missingValues = set(list1) - set(list2)\n",
    "additionalValues = set(list2) - set(list1)\n",
    "\n",
    "print(f\"Missing values in list 2: {missingValues}\")\n",
    "print(f\"Additional values in list 2: {additionalValues}\")"
   ]
  },
  {
   "cell_type": "markdown",
   "metadata": {},
   "source": [
    "43. Write a Python program to split a list into different variables."
   ]
  },
  {
   "cell_type": "code",
   "execution_count": null,
   "metadata": {},
   "outputs": [
    {
     "name": "stdout",
     "output_type": "stream",
     "text": [
      "Danny\n",
      "20\n",
      "2005\n"
     ]
    }
   ],
   "source": [
    "#cau 43\n",
    "information = [\"Danny\", \"20\", \"2005\"]\n",
    "name, age, birthYear = information\n",
    "print(name)\n",
    "print(age)\n",
    "print(birthYear)"
   ]
  },
  {
   "cell_type": "markdown",
   "metadata": {},
   "source": [
    "44. Write a Python program to generate groups of five consecutive numbers in a\n",
    "list."
   ]
  },
  {
   "cell_type": "code",
   "execution_count": null,
   "metadata": {},
   "outputs": [
    {
     "name": "stdout",
     "output_type": "stream",
     "text": [
      "[1, 2, 3, 4, 5, 6, 7, 8, 9, 10, 11, 12, 13, 14, 15, 16, 17, 18, 19, 20]\n",
      "[[1, 2, 3, 4, 5], [6, 7, 8, 9, 10], [11, 12, 13, 14, 15], [16, 17, 18, 19, 20]]\n",
      "[[1, 2, 3, 4, 5], [6, 7, 8, 9, 10], [11, 12, 13, 14, 15], [16, 17, 18, 19, 20]]\n"
     ]
    }
   ],
   "source": [
    "#cau 44\n",
    "numbers = list(range(1,21))\n",
    "print(numbers)\n",
    "\n",
    "groups = [numbers[i:i+5] for i in range(0, len(numbers), 5)]\n",
    "print(groups)\n",
    "\n",
    "groups1 = [[i, i+1, i+2, i+3, i+4] for i in range(1,21,5)]\n",
    "print(groups1)"
   ]
  },
  {
   "cell_type": "markdown",
   "metadata": {},
   "source": [
    "45. Write a Python program to convert a pair of values into a sorted unique array."
   ]
  },
  {
   "cell_type": "code",
   "execution_count": null,
   "metadata": {},
   "outputs": [
    {
     "name": "stdout",
     "output_type": "stream",
     "text": [
      "[3, 4, 1, 2, 4, 5, 2, 1, 6, 3]\n",
      "method 1\n",
      "[1, 2, 3, 4, 5, 6]\n",
      "method 2\n",
      "[3, 4, 1, 2, 5, 6]\n",
      "[1, 2, 3, 4, 5, 6]\n"
     ]
    }
   ],
   "source": [
    "pairs = [[3, 4], [1, 2], [4, 5], [2, 1], [6, 3]]\n",
    "flatList = [item for pair in pairs for item in pair]\n",
    "print(flatList)\n",
    "print(\"method 1\")\n",
    "uniqueList = sorted(list(set(flatList)))\n",
    "print(uniqueList)\n",
    "\n",
    "print(\"method 2\")\n",
    "uniqueList1 =list()\n",
    "for item in flatList:\n",
    "    if item not in uniqueList1:\n",
    "        uniqueList1.append(item)\n",
    "print(uniqueList1)\n",
    "cont = True\n",
    "while cont:\n",
    "    cont = False\n",
    "    for i in range(len(uniqueList1)-1):\n",
    "        if uniqueList1[i] > uniqueList1[i+1]:\n",
    "            uniqueList1[i], uniqueList1[i+1] = uniqueList1[i+1], uniqueList1[i]\n",
    "            cont = True\n",
    "print(uniqueList1)\n",
    "        \n"
   ]
  },
  {
   "cell_type": "markdown",
   "metadata": {},
   "source": [
    "46. Write a Python program to select the odd items from a list."
   ]
  },
  {
   "cell_type": "code",
   "execution_count": 13,
   "metadata": {},
   "outputs": [
    {
     "name": "stdout",
     "output_type": "stream",
     "text": [
      "[1, 3, 5]\n"
     ]
    }
   ],
   "source": [
    "sampleList = [1, 2, 3, 4, 5, 6]\n",
    "oddItems = list()\n",
    "for i in sampleList:\n",
    "    if i % 2 != 0:\n",
    "        oddItems.append(i)\n",
    "print(oddItems)"
   ]
  },
  {
   "cell_type": "markdown",
   "metadata": {},
   "source": [
    "47. Write a Python program to insert an element before each element of a list."
   ]
  },
  {
   "cell_type": "code",
   "execution_count": null,
   "metadata": {},
   "outputs": [
    {
     "name": "stdout",
     "output_type": "stream",
     "text": [
      "['e', 'a', 'e', 'b', 'e', 'c', 'e', 'd']\n",
      "['e', 'a', 'e', 'b', 'e', 'c', 'e', 'd']\n"
     ]
    }
   ],
   "source": [
    "#Cau 47\n",
    "sampleList = [\"a\", \"b\", \"c\", \"d\"]\n",
    "newList = []\n",
    "#method 1\n",
    "for i in range(len(sampleList)):\n",
    "    newList.append(\"e\")\n",
    "    newList.append(sampleList[i])\n",
    "#method 2\n",
    "for i in range(len(sampleList) - 1, -1, -1):\n",
    "    sampleList.insert(i, \"e\")\n",
    "    \n",
    "print(sampleList)\n",
    "print(newList)"
   ]
  },
  {
   "cell_type": "markdown",
   "metadata": {},
   "source": [
    "48. Write a Python program to print nested lists (each list on a new line) using\n",
    "the print() function."
   ]
  },
  {
   "cell_type": "code",
   "execution_count": 22,
   "metadata": {},
   "outputs": [
    {
     "name": "stdout",
     "output_type": "stream",
     "text": [
      "[1, 2]\n",
      "[3, 4]\n",
      "[5, 6]\n"
     ]
    }
   ],
   "source": [
    "nestedList = [[1, 2], [3, 4], [5, 6]]\n",
    "\n",
    "for sublist in nestedList:\n",
    "    print(sublist)"
   ]
  },
  {
   "cell_type": "markdown",
   "metadata": {},
   "source": [
    "49. Write a Python program to convert a list to a list of dictionaries.\n",
    "Sample lists: [\"Black\", \"Red\", \"Maroon\", \"Yellow\"], [\"#000000\", \"#FF0000\",\n",
    "\"#800000\", \"#FFFF00\"]\n",
    "Expected Output: [{'color_name': 'Black', 'color_code': '#000000'}, {'color_name':\n",
    "'Red', 'color_code': '#FF0000'}, {'color_name': 'Maroon', 'color_code': '#800000'},\n",
    "{'color_name': 'Yellow', 'color_code': '#FFFF00'}]"
   ]
  },
  {
   "cell_type": "code",
   "execution_count": null,
   "metadata": {},
   "outputs": [
    {
     "name": "stdout",
     "output_type": "stream",
     "text": [
      "[{'color_name': 'Black', 'color_code': '#000000'}, {'color_name': 'Red', 'color_code': '#FF0000'}, {'color_name': 'Maroon', 'color_code': '#800000'}, {'color_name': 'Yellow', 'color_code': '#FFFF00'}]\n",
      "[{'color_name': 'Black', 'color_code': '#000000'}, {'color_name': 'Red', 'color_code': '#FF0000'}, {'color_name': 'Maroon', 'color_code': '#800000'}, {'color_name': 'Yellow', 'color_code': '#FFFF00'}]\n"
     ]
    }
   ],
   "source": [
    "color_names = [\"Black\", \"Red\", \"Maroon\", \"Yellow\"]\n",
    "color_codes = [\"#000000\", \"#FF0000\", \"#800000\", \"#FFFF00\"]\n",
    "#method 1\n",
    "colorDictList = list()\n",
    "\n",
    "for i in range(len(color_names)):\n",
    "    colorDict = dict()\n",
    "    colorDict['color_name'] = color_names[i]\n",
    "    colorDict['color_code'] = color_codes[i]\n",
    "    colorDictList.append(colorDict)\n",
    "\n",
    "#method 2\n",
    "colorDictList1 = [{'color_name': name, 'color_code': code} for name, code in zip(color_names, color_codes)]\n",
    "\n",
    "print(colorDictList)\n",
    "print(colorDictList1)\n",
    "    "
   ]
  },
  {
   "cell_type": "markdown",
   "metadata": {},
   "source": [
    "50. Write a Python program to sort a list of nested dictionaries."
   ]
  },
  {
   "cell_type": "code",
   "execution_count": null,
   "metadata": {},
   "outputs": [
    {
     "name": "stdout",
     "output_type": "stream",
     "text": [
      "[{'name': 'Phong', 'age': 19}, {'name': 'An', 'age': 20}, {'name': 'Bình', 'age': 22}, {'name': 'Hà', 'age': 25}]\n"
     ]
    }
   ],
   "source": [
    "#cau 50\n",
    "people = [\n",
    "    {'name': 'Phong', 'age': 22},\n",
    "    {'name': 'An', 'age': 19},\n",
    "    {'name': 'Bình', 'age': 25},\n",
    "    {'name': 'Hà', 'age': 20}\n",
    "]\n",
    "#sort by age\n",
    "cont = True\n",
    "while cont: \n",
    "    cont = False\n",
    "    for i in range(len(people)-1):\n",
    "        if people[i]['age'] > people[i+1]['age']:\n",
    "            people[i]['age'], people[i+1]['age'] = people[i+1]['age'], people[i]['age']\n",
    "            cont = True\n",
    "print(people)"
   ]
  },
  {
   "cell_type": "markdown",
   "metadata": {},
   "source": [
    "51. Write a Python program to split a list every Nth element.\n",
    "Sample list: ['a', 'b', 'c', 'd', 'e', 'f', 'g', 'h', 'i', 'j', 'k', 'l', 'm', 'n']\n",
    "Expected Output: [['a', 'd', 'g', 'j', 'm'], ['b', 'e', 'h', 'k', 'n'], ['c', 'f', 'i', 'l']]"
   ]
  },
  {
   "cell_type": "code",
   "execution_count": null,
   "metadata": {},
   "outputs": [
    {
     "name": "stdout",
     "output_type": "stream",
     "text": [
      "[['a', 'd', 'g', 'j', 'm'], ['b', 'e', 'h', 'k', 'n'], ['c', 'f', 'i', 'l']]\n"
     ]
    }
   ],
   "source": [
    "#cau 51\n",
    "sampleList = ['a', 'b', 'c', 'd', 'e', 'f', 'g', 'h', 'i', 'j', 'k', 'l', 'm', 'n']\n",
    "nestedList = [list() for _ in range(3)]\n",
    "for i in range(len(sampleList)):\n",
    "    nestedList[i % 3].append(sampleList[i])\n",
    "print(nestedList)"
   ]
  },
  {
   "cell_type": "markdown",
   "metadata": {},
   "source": [
    "52. Write a Python program to compute the difference between two lists.\n",
    "Sample data: [\"red\", \"orange\", \"green\", \"blue\", \"white\"], [\"black\", \"yellow\", \"green\",\n",
    "\"blue\"]\n",
    "Expected Output:\n",
    "Color1-Color2: ['white', 'orange', 'red']\n",
    "Color2-Color1: ['black', 'yellow']\n"
   ]
  },
  {
   "cell_type": "code",
   "execution_count": 3,
   "metadata": {},
   "outputs": [
    {
     "name": "stdout",
     "output_type": "stream",
     "text": [
      "Difference in list1: ['white', 'orange', 'red']\n",
      "Difference in list2: ['yellow', 'black']\n"
     ]
    }
   ],
   "source": [
    "#cau 52\n",
    "list1 = [\"red\", \"orange\", \"green\", \"blue\", \"white\"]\n",
    "list2 = [\"black\", \"yellow\", \"green\", \"blue\"]\n",
    "difference1to2 = list(set(list1) - set(list2))\n",
    "difference2to1 = list(set(list2) - set(list1))\n",
    "print(f\"Difference in list1: {difference1to2}\")\n",
    "print(f\"Difference in list2: {difference2to1}\")"
   ]
  },
  {
   "cell_type": "markdown",
   "metadata": {},
   "source": [
    "53. Write a Python program to create a list with infinite elements."
   ]
  },
  {
   "cell_type": "code",
   "execution_count": 4,
   "metadata": {},
   "outputs": [
    {
     "name": "stdout",
     "output_type": "stream",
     "text": [
      "0\n",
      "1\n",
      "2\n",
      "3\n",
      "4\n",
      "5\n",
      "6\n",
      "7\n",
      "8\n",
      "9\n",
      "10\n",
      "11\n",
      "12\n",
      "13\n",
      "14\n",
      "15\n",
      "16\n",
      "17\n",
      "18\n",
      "19\n",
      "20\n",
      "21\n",
      "22\n",
      "23\n",
      "24\n",
      "25\n",
      "26\n",
      "27\n",
      "28\n",
      "29\n",
      "30\n",
      "31\n",
      "32\n",
      "33\n",
      "34\n",
      "35\n",
      "36\n",
      "37\n",
      "38\n",
      "39\n",
      "40\n",
      "41\n",
      "42\n",
      "43\n",
      "44\n",
      "45\n",
      "46\n",
      "47\n",
      "48\n",
      "49\n",
      "50\n",
      "51\n",
      "52\n",
      "53\n",
      "54\n",
      "55\n",
      "56\n",
      "57\n",
      "58\n",
      "59\n",
      "60\n",
      "61\n",
      "62\n",
      "63\n",
      "64\n",
      "65\n",
      "66\n",
      "67\n",
      "68\n",
      "69\n",
      "70\n",
      "71\n",
      "72\n",
      "73\n",
      "74\n",
      "75\n",
      "76\n",
      "77\n",
      "78\n",
      "79\n",
      "80\n",
      "81\n",
      "82\n",
      "83\n",
      "84\n",
      "85\n",
      "86\n",
      "87\n",
      "88\n",
      "89\n",
      "90\n",
      "91\n",
      "92\n",
      "93\n",
      "94\n",
      "95\n",
      "96\n",
      "97\n",
      "98\n",
      "99\n"
     ]
    }
   ],
   "source": [
    "import itertools\n",
    "\n",
    "infiniteList = itertools.count(0)\n",
    "\n",
    "for i in range(100):\n",
    "    print(next(infiniteList))"
   ]
  },
  {
   "cell_type": "markdown",
   "metadata": {},
   "source": [
    "54. Write a Python program to concatenate elements of a list."
   ]
  },
  {
   "cell_type": "code",
   "execution_count": 5,
   "metadata": {},
   "outputs": [
    {
     "name": "stdout",
     "output_type": "stream",
     "text": [
      "hello world python programming \n"
     ]
    }
   ],
   "source": [
    "#Cau 54\n",
    "sampleList = [\"hello\", \"world\", \"python\", \"programming\"]\n",
    "\n",
    "statement = \"\"\n",
    "\n",
    "for i in sampleList:\n",
    "    statement += i + \" \"\n",
    "print(statement)"
   ]
  },
  {
   "cell_type": "markdown",
   "metadata": {},
   "source": [
    "55. Write a Python program to remove key-value pairs from a list of dictionaries."
   ]
  },
  {
   "cell_type": "code",
   "execution_count": 8,
   "metadata": {},
   "outputs": [
    {
     "name": "stdout",
     "output_type": "stream",
     "text": [
      "[{'name': 'Alice', 'gender': 'Female'}, {'name': 'Bob', 'gender': 'Male'}, {'name': 'Charlie', 'gender': 'Male'}]\n",
      "[{'name': 'Alice', 'gender': 'Female'}, {'name': 'Bob', 'age': 30, 'gender': 'Male'}, {'name': 'Charlie', 'age': 22, 'gender': 'Male'}]\n"
     ]
    }
   ],
   "source": [
    "data = [\n",
    "    {\"name\": \"Alice\", \"age\": 25, \"gender\": \"Female\"},\n",
    "    {\"name\": \"Bob\", \"age\": 30, \"gender\": \"Male\"},\n",
    "    {\"name\": \"Charlie\", \"age\": 22, \"gender\": \"Male\"}\n",
    "]\n",
    "\n",
    "#delete key \"age\" from each dictionary\n",
    "keyRemove = \"age\"\n",
    "for item in data:\n",
    "    if keyRemove in item:\n",
    "        del item[keyRemove]\n",
    "print(data)\n",
    "\n",
    "#delete key \"age\" value \"25\"\n",
    "data1 = [\n",
    "    {\"name\": \"Alice\", \"age\": 25, \"gender\": \"Female\"},\n",
    "    {\"name\": \"Bob\", \"age\": 30, \"gender\": \"Male\"},\n",
    "    {\"name\": \"Charlie\", \"age\": 22, \"gender\": \"Male\"}\n",
    "]\n",
    "\n",
    "keyRemove = \"age\"\n",
    "valueRemove = 25\n",
    "\n",
    "for dict in data1:\n",
    "    if dict[keyRemove] == valueRemove:\n",
    "        del dict[keyRemove]\n",
    "print(data1)"
   ]
  },
  {
   "cell_type": "markdown",
   "metadata": {},
   "source": [
    "56. Write a Python program to convert a string to a list.\n"
   ]
  },
  {
   "cell_type": "code",
   "execution_count": 10,
   "metadata": {},
   "outputs": [
    {
     "name": "stdout",
     "output_type": "stream",
     "text": [
      "['Python', 'is', 'fun!']\n"
     ]
    }
   ],
   "source": [
    "sampleString = \"Python is fun!\"\n",
    "sampleList = sampleString.split()\n",
    "print(sampleList)"
   ]
  },
  {
   "cell_type": "markdown",
   "metadata": {},
   "source": [
    "57. Write a Python program to check if all items in a given list of strings are equal\n",
    "to a given string."
   ]
  },
  {
   "cell_type": "code",
   "execution_count": 11,
   "metadata": {},
   "outputs": [
    {
     "name": "stdout",
     "output_type": "stream",
     "text": [
      "all elements are equal\n"
     ]
    }
   ],
   "source": [
    "stringList = [\"hello\", \"hello\", \"hello\"]\n",
    "targetString = \"hello\"\n",
    "\n",
    "decision = True\n",
    "for i in stringList:\n",
    "    if i != targetString:\n",
    "        decision = False\n",
    "        break\n",
    "print(\"all elements are equal\" if decision else \"not all elements are equal\")"
   ]
  },
  {
   "cell_type": "markdown",
   "metadata": {},
   "source": [
    "58. Write a Python program to replace the last element in a list with another list.\n",
    "Sample data : [1, 3, 5, 7, 9, 10], [2, 4, 6, 8]\n",
    "Expected Output: [1, 3, 5, 7, 9, 2, 4, 6, 8]\n"
   ]
  },
  {
   "cell_type": "code",
   "execution_count": 18,
   "metadata": {},
   "outputs": [
    {
     "name": "stdout",
     "output_type": "stream",
     "text": [
      "[1, 3, 5, 7, 9, 2, 4, 6, 8]\n"
     ]
    }
   ],
   "source": [
    "sampleList1 = [1, 3, 5, 7, 9, 10]\n",
    "sampleList2 = [2, 4, 6, 8]\n",
    "\n",
    "sampleList1[-1:] = sampleList2\n",
    "\n",
    "print(sampleList1)\n",
    "del input "
   ]
  },
  {
   "cell_type": "markdown",
   "metadata": {},
   "source": [
    "59. Write a Python program to check whether the n-th element exists in a given\n",
    "list."
   ]
  },
  {
   "cell_type": "code",
   "execution_count": 21,
   "metadata": {},
   "outputs": [
    {
     "name": "stdout",
     "output_type": "stream",
     "text": [
      "thu tu phan tu: 4\n",
      "phan tu thu 4 la: 5\n"
     ]
    }
   ],
   "source": [
    "pos = int(input(\"nhap thu tu phan tu cua list: \"))\n",
    "print(f\"thu tu phan tu: {pos}\")\n",
    "\n",
    "sampleList = [1, 2, 3, 4, 5]\n",
    "if 0 < pos < len(sampleList):\n",
    "    print(f\"phan tu thu {pos} la: {sampleList[pos]}\")\n",
    "else:\n",
    "    print(\"khong co phan tu nay trong list\")"
   ]
  },
  {
   "cell_type": "markdown",
   "metadata": {},
   "source": [
    "60. Write a Python program to find a tuple, the smallest second index value from\n",
    "a list of tuples."
   ]
  },
  {
   "cell_type": "code",
   "execution_count": 22,
   "metadata": {},
   "outputs": [
    {
     "name": "stdout",
     "output_type": "stream",
     "text": [
      "min tuple: (10, 8)\n"
     ]
    }
   ],
   "source": [
    "sampleList = [(5, 20), (1, 15), (10, 8), (7, 30)]\n",
    "\n",
    "minTuple = sampleList[0]\n",
    "for tuple in sampleList:\n",
    "    if tuple[1] < minTuple[1]:\n",
    "        minTuple = tuple\n",
    "print(f\"min tuple: {minTuple}\")"
   ]
  },
  {
   "cell_type": "markdown",
   "metadata": {},
   "source": [
    "61. Write a Python program to create a list of empty dictionaries.\n"
   ]
  },
  {
   "cell_type": "code",
   "execution_count": null,
   "metadata": {},
   "outputs": [
    {
     "name": "stdout",
     "output_type": "stream",
     "text": [
      "[{}, {}, {}, {}, {}]\n"
     ]
    }
   ],
   "source": [
    "#cau 61\n",
    "n = int(input(\"nhap so luong dictionary cua list: \"))\n",
    "listDict = [dict() for _ in range(n)]\n",
    "print(listDict)"
   ]
  },
  {
   "cell_type": "markdown",
   "metadata": {},
   "source": [
    "62. Write a Python program to print a list of space-separated elements."
   ]
  },
  {
   "cell_type": "code",
   "execution_count": 2,
   "metadata": {},
   "outputs": [
    {
     "name": "stdout",
     "output_type": "stream",
     "text": [
      "apple banana cherry\n"
     ]
    }
   ],
   "source": [
    "#cau 62\n",
    "fruits = [\"apple\", \"banana\", \"cherry\"]\n",
    "print(\" \".join(fruits))"
   ]
  },
  {
   "cell_type": "markdown",
   "metadata": {},
   "source": [
    "63. Write a Python program to insert a given string at the beginning of all items in a list.\n",
    "Sample list : [1,2,3,4], string : emp\n",
    "Expected output : ['emp1', 'emp2', 'emp3', 'emp4']\n"
   ]
  },
  {
   "cell_type": "code",
   "execution_count": null,
   "metadata": {},
   "outputs": [
    {
     "name": "stdout",
     "output_type": "stream",
     "text": [
      "['emp1', 'emp2', 'emp3', 'emp4']\n"
     ]
    }
   ],
   "source": [
    "#cau 63\n",
    "sampleList = [1, 2, 3, 4]\n",
    "string = 'emp'\n",
    "newList = list()\n",
    "for i in sampleList:\n",
    "    newList.append(string + str(i))\n",
    "print(newList)"
   ]
  },
  {
   "cell_type": "markdown",
   "metadata": {},
   "source": [
    "64. Write a Python program to iterate over two lists simultaneously."
   ]
  },
  {
   "cell_type": "code",
   "execution_count": 4,
   "metadata": {},
   "outputs": [
    {
     "name": "stdout",
     "output_type": "stream",
     "text": [
      "Alice: 85\n",
      "Bob: 90\n",
      "Charlie: 95\n"
     ]
    }
   ],
   "source": [
    "#cau 64\n",
    "names = [\"Alice\", \"Bob\", \"Charlie\"]\n",
    "scores = [85, 90, 95]\n",
    "for name, score in zip(names, scores):\n",
    "    print(f\"{name}: {score}\")"
   ]
  },
  {
   "cell_type": "markdown",
   "metadata": {},
   "source": [
    "65. Write a Python program to move all zero digits to the end of a given list of\n",
    "numbers.\n",
    "Expected output:\n",
    "Original list:\n",
    "[3, 4, 0, 0, 0, 6, 2, 0, 6, 7, 6, 0, 0, 0, 9, 10, 7, 4, 4, 5, 3, 0, 0, 2, 9, 7, 1]\n",
    "Move all zero digits to end of the said list of numbers:\n",
    "[3, 4, 6, 2, 6, 7, 6, 9, 10, 7, 4, 4, 5, 3, 2, 9, 7, 1, 0, 0, 0, 0, 0, 0, 0, 0, 0]\n"
   ]
  },
  {
   "cell_type": "code",
   "execution_count": 16,
   "metadata": {},
   "outputs": [
    {
     "name": "stdout",
     "output_type": "stream",
     "text": [
      "[3, 4, 6, 2, 6, 7, 6, 9, 10, 7, 4, 4, 5, 3, 2, 9, 7, 1, 0, 0, 0, 0, 0, 0, 0, 0, 0]\n"
     ]
    }
   ],
   "source": [
    "#cau 65\n",
    "sampleList = [3, 4, 0, 0, 0, 6, 2, 0, 6, 7, 6, 0, 0, 0, 9, 10, 7, 4, 4, 5, 3, 0, 0, 2, 9, 7, 1]\n",
    "countZero = 0\n",
    "for i in range(len(sampleList)-1,-1,-1):\n",
    "    if sampleList[i] == 0:\n",
    "        sampleList.pop(i)\n",
    "        countZero += 1\n",
    "for i in range(countZero):\n",
    "    sampleList.append(0)\n",
    "print(sampleList)\n",
    "\n",
    "del list"
   ]
  },
  {
   "cell_type": "markdown",
   "metadata": {},
   "source": [
    "66. Write a Python program to find the list in a list of lists whose sum of elements is the highest.\n",
    "Sample lists: [1,2,3], [4,5,6], [10,11,12], [7,8,9]\n",
    "Expected Output: [10, 11, 12]\n"
   ]
  },
  {
   "cell_type": "code",
   "execution_count": 17,
   "metadata": {},
   "outputs": [
    {
     "name": "stdout",
     "output_type": "stream",
     "text": [
      "list co tong phan tu lon nhat: [10, 11, 12]\n"
     ]
    }
   ],
   "source": [
    "sampleLists = [[1,2,3], [4,5,6], [10,11,12], [7,8,9]]\n",
    "chosenList = sampleLists[0]\n",
    "max = sum(sampleLists[0])\n",
    "for i in range(1, len(sampleLists)):\n",
    "    if sum(sampleLists[i]) > max:\n",
    "        max = sum(sampleLists[i])\n",
    "        chosenList = sampleLists[i]\n",
    "print(f\"list co tong phan tu lon nhat: {chosenList}\")\n",
    "        "
   ]
  },
  {
   "cell_type": "markdown",
   "metadata": {},
   "source": [
    "67. Write a Python program to find all the values in a list that are greater than a specified number."
   ]
  },
  {
   "cell_type": "code",
   "execution_count": 20,
   "metadata": {},
   "outputs": [
    {
     "name": "stdout",
     "output_type": "stream",
     "text": [
      "[15, 54, 83, 90, 42, 91, 67, 87, 37, 75, 8, 71, 45, 11, 24, 25, 43, 28, 62, 2, 39, 44, 61, 26, 19, 34, 39, 36, 4, 4, 14, 7, 5, 31, 24, 84, 30, 51, 79, 49, 54, 38, 15, 55, 92, 16, 58, 39, 62, 38, 49, 61, 51, 62, 9, 35, 43, 9, 56, 96, 97, 53, 36, 81, 88, 51, 86, 66, 80, 13, 71, 44, 46, 53, 5, 24, 45, 8, 75, 71, 65, 44, 73, 63, 33, 70, 34, 20, 16, 87, 43, 76, 21, 56, 53, 12, 4, 28, 92, 8]\n",
      "list cac so lon hon 40: [54, 83, 90, 42, 91, 67, 87, 75, 71, 45, 43, 62, 44, 61, 84, 51, 79, 49, 54, 55, 92, 58, 62, 49, 61, 51, 62, 43, 56, 96, 97, 53, 81, 88, 51, 86, 66, 80, 71, 44, 46, 53, 45, 75, 71, 65, 44, 73, 63, 70, 87, 43, 76, 56, 53, 92]\n"
     ]
    }
   ],
   "source": [
    "yourNumber = int(input(\"nhap so ban muon kiem tra: \"))\n",
    "greaterNumberList = list()\n",
    "sampleList = list()\n",
    "for i in range(100):\n",
    "    number = random.randint(1,100)\n",
    "    sampleList.append(number)\n",
    "print(sampleList)\n",
    "for number in sampleList:\n",
    "    if number > yourNumber:\n",
    "        greaterNumberList.append(number)\n",
    "print(f\"list cac so lon hon {yourNumber}: {greaterNumberList}\")"
   ]
  },
  {
   "cell_type": "markdown",
   "metadata": {},
   "source": [
    "68. Write a Python program to extend a list without appending.\n",
    "Sample data: [10, 20, 30]\n",
    "[40, 50, 60]\n",
    "Expected output : [40, 50, 60, 10, 20, 30]"
   ]
  },
  {
   "cell_type": "code",
   "execution_count": 21,
   "metadata": {},
   "outputs": [
    {
     "name": "stdout",
     "output_type": "stream",
     "text": [
      "[40, 50, 60, 10, 20, 30]\n"
     ]
    }
   ],
   "source": [
    "sampleList1 = [10, 20, 30]\n",
    "sampleList2 = [40, 50, 60]\n",
    "\n",
    "sampleList2.extend(sampleList1)\n",
    "print(sampleList2)"
   ]
  },
  {
   "cell_type": "markdown",
   "metadata": {},
   "source": [
    "69. Write a Python program to remove duplicates from a list of lists.\n",
    "Sample list : [[10, 20], [40], [30, 56, 25], [10, 20], [33], [40]]\n",
    "New List : [[10, 20], [30, 56, 25], [33], [40]]"
   ]
  },
  {
   "cell_type": "code",
   "execution_count": 27,
   "metadata": {},
   "outputs": [
    {
     "name": "stdout",
     "output_type": "stream",
     "text": [
      "[[10, 20], [40], [30, 56, 25], [33]]\n"
     ]
    }
   ],
   "source": [
    "#Cau 69\n",
    "sampleList = [[10, 20], [40], [30, 56, 25], [10, 20], [33], [40]]\n",
    "# uniqueList = list()\n",
    "# for i in sampleList:\n",
    "#     if i not in uniqueList:\n",
    "#         uniqueList.append(i)\n",
    "# print(uniqueList)\n",
    "\n",
    "for i in range(len(sampleList) - 1):\n",
    "    for j in range(len(sampleList) - 1, i, -1):\n",
    "        if sampleList[j] == sampleList[i]:\n",
    "            del sampleList[j]\n",
    "\n",
    "print(sampleList)"
   ]
  },
  {
   "cell_type": "markdown",
   "metadata": {},
   "source": [
    "70. Write a Python program to find items starting with a specific character from a\n",
    "list.\n",
    "Expected Output:\n",
    "Original list:\n",
    "['abcd', 'abc', 'bcd', 'bkie', 'cder', 'cdsw', 'sdfsd', 'dagfa', 'acjd']\n",
    "Items start with a from the said list:\n",
    "['abcd', 'abc', 'acjd']\n",
    "Items start with d from the said list:\n",
    "['dagfa']\n",
    "Items start with w from the said list:\n",
    "[]"
   ]
  },
  {
   "cell_type": "code",
   "execution_count": null,
   "metadata": {},
   "outputs": [
    {
     "name": "stdout",
     "output_type": "stream",
     "text": [
      "list start with a: ['abcd', 'abc', 'acjd']\n",
      "list start with d: ['dagfa']\n",
      "list start with w: []\n"
     ]
    }
   ],
   "source": [
    "#cau 70\n",
    "sampleList = ['abcd', 'abc', 'bcd', 'bkie', 'cder', 'cdsw', 'sdfsd', 'dagfa', 'acjd']\n",
    "specificCharA = 'a'\n",
    "specificCharD = 'd'\n",
    "specificCharW = 'w'\n",
    "listStartWithA = list()\n",
    "listStartWithD = list()\n",
    "listStartWithW = list()\n",
    "for string in sampleList:\n",
    "    if string[0] == specificCharA:\n",
    "        listStartWithA.append(string)\n",
    "    elif string[0] == specificCharD:\n",
    "        listStartWithD.append(string)\n",
    "    elif string[0] == specificCharW:\n",
    "        listStartWithW.append(string)\n",
    "print(f\"list start with {specificCharA}: {listStartWithA}\")\n",
    "print(f\"list start with {specificCharD}: {listStartWithD}\")\n",
    "print(f\"list start with {specificCharW}: {listStartWithW}\")"
   ]
  }
 ],
 "metadata": {
  "kernelspec": {
   "display_name": "Python 3",
   "language": "python",
   "name": "python3"
  },
  "language_info": {
   "codemirror_mode": {
    "name": "ipython",
    "version": 3
   },
   "file_extension": ".py",
   "mimetype": "text/x-python",
   "name": "python",
   "nbconvert_exporter": "python",
   "pygments_lexer": "ipython3",
   "version": "3.12.5"
  }
 },
 "nbformat": 4,
 "nbformat_minor": 2
}
